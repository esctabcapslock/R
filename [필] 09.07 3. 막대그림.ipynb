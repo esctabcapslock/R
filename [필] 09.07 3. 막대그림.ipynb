{
 "cells": [
  {
   "cell_type": "markdown",
   "metadata": {},
   "source": [
    "## 막대그림에 대하여\n"
   ]
  },
  {
   "cell_type": "code",
   "execution_count": 32,
   "metadata": {},
   "outputs": [],
   "source": [
    "## 실습 4 막대그림\n",
    "data4=read.csv('pjob1.csv',header=T)#부모의 직업과 자식의 상관관계"
   ]
  },
  {
   "cell_type": "code",
   "execution_count": 58,
   "metadata": {
    "scrolled": true
   },
   "outputs": [
    {
     "data": {
      "text/html": [
       "<table>\n",
       "<caption>A data.frame: 2 × 5</caption>\n",
       "<thead>\n",
       "\t<tr><th scope=col>성별</th><th scope=col>어머니가 의사</th><th scope=col>아버지가 의사</th><th scope=col>부모가 모두 의사</th><th scope=col>부모 모두 의사가 아님</th></tr>\n",
       "\t<tr><th scope=col>&lt;chr&gt;</th><th scope=col>&lt;int&gt;</th><th scope=col>&lt;int&gt;</th><th scope=col>&lt;int&gt;</th><th scope=col>&lt;int&gt;</th></tr>\n",
       "</thead>\n",
       "<tbody>\n",
       "\t<tr><td>남자</td><td>594</td><td>304</td><td>534</td><td>166</td></tr>\n",
       "\t<tr><td>여자</td><td>712</td><td>350</td><td>824</td><td>114</td></tr>\n",
       "</tbody>\n",
       "</table>\n"
      ],
      "text/latex": [
       "A data.frame: 2 × 5\n",
       "\\begin{tabular}{lllll}\n",
       " 성별 & 어머니가 의사 & 아버지가 의사 & 부모가 모두 의사 & 부모 모두 의사가 아님\\\\\n",
       " <chr> & <int> & <int> & <int> & <int>\\\\\n",
       "\\hline\n",
       "\t 남자 & 594 & 304 & 534 & 166\\\\\n",
       "\t 여자 & 712 & 350 & 824 & 114\\\\\n",
       "\\end{tabular}\n"
      ],
      "text/markdown": [
       "\n",
       "A data.frame: 2 × 5\n",
       "\n",
       "| 성별 &lt;chr&gt; | 어머니가 의사 &lt;int&gt; | 아버지가 의사 &lt;int&gt; | 부모가 모두 의사 &lt;int&gt; | 부모 모두 의사가 아님 &lt;int&gt; |\n",
       "|---|---|---|---|---|\n",
       "| 남자 | 594 | 304 | 534 | 166 |\n",
       "| 여자 | 712 | 350 | 824 | 114 |\n",
       "\n"
      ],
      "text/plain": [
       "  성별 어머니가 의사 아버지가 의사 부모가 모두 의사 부모 모두 의사가 아님\n",
       "1 남자 594           304           534              166                  \n",
       "2 여자 712           350           824              114                  "
      ]
     },
     "metadata": {},
     "output_type": "display_data"
    },
    {
     "data": {
      "image/png": "[encoded data removed]",
      "text/plain": [
       "Plot with title \"부모 직업의 영향\""
      ]
     },
     "metadata": {
      "image/png": {
       "height": 420,
       "width": 420
      }
     },
     "output_type": "display_data"
    }
   ],
   "source": [
    "data4\n",
    "x=as.matrix(data4[1:2,2:5])##행렬로 바꾼다\n",
    "#어머니가.의사 같은 것에서 점을 지우고 싶다.\n",
    "colnames(data4)=c('성별','어머니가 의사', '아버지가 의사', '부모가 모두 의사', '부모 모두 의사가 아님');\n",
    "barplot(x,beside=T,main='부모 직업의 영향',col=c('blue','pink'),ylim=c(0,1000), ylab ='명')##beside 옆으로 "
   ]
  },
  {
   "cell_type": "code",
   "execution_count": 55,
   "metadata": {},
   "outputs": [],
   "source": [
    "?barplot"
   ]
  }
 ],
 "metadata": {
  "kernelspec": {
   "display_name": "R",
   "language": "R",
   "name": "ir"
  },
  "language_info": {
   "codemirror_mode": "r",
   "file_extension": ".r",
   "mimetype": "text/x-r-source",
   "name": "R",
   "pygments_lexer": "r",
   "version": "4.0.2"
  }
 },
 "nbformat": 4,
 "nbformat_minor": 4
}
