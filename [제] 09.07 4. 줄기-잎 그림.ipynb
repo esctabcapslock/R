{
 "cells": [
  {
   "cell_type": "markdown",
   "metadata": {},
   "source": [
    "# # 실습6 줄기-잎 그림\n",
    "\n",
    "숙제.\n",
    "77쪽 줄기-잎그림 그리는거"
   ]
  },
  {
   "cell_type": "code",
   "execution_count": 2,
   "metadata": {},
   "outputs": [
    {
     "name": "stdout",
     "output_type": "stream",
     "text": [
      "\n",
      "  The decimal point is 1 digit(s) to the right of the |\n",
      "\n",
      "  2 | 25\n",
      "  3 | 45\n",
      "  4 | 1166679\n",
      "  5 | 449\n",
      "  6 | 0\n",
      "\n"
     ]
    }
   ],
   "source": [
    "data6=read.csv('homenumber.csv',header=T);#미국 앙키스 팀의 전설적인..\n",
    "x=data6$홈런개수\n",
    "stem(x)"
   ]
  },
  {
   "cell_type": "code",
   "execution_count": 3,
   "metadata": {},
   "outputs": [
    {
     "data": {
      "text/html": [
       "12"
      ],
      "text/latex": [
       "12"
      ],
      "text/markdown": [
       "12"
      ],
      "text/plain": [
       "[1] 12"
      ]
     },
     "metadata": {},
     "output_type": "display_data"
    }
   ],
   "source": []
  }
 ],
 "metadata": {
  "kernelspec": {
   "display_name": "R",
   "language": "R",
   "name": "ir"
  },
  "language_info": {
   "codemirror_mode": "r",
   "file_extension": ".r",
   "mimetype": "text/x-r-source",
   "name": "R",
   "pygments_lexer": "r",
   "version": "4.0.2"
  }
 },
 "nbformat": 4,
 "nbformat_minor": 4
}
