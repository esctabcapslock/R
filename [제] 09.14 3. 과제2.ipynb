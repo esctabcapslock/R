{
 "cells": [
  {
   "cell_type": "code",
   "execution_count": 186,
   "metadata": {},
   "outputs": [],
   "source": [
    "xdd = read.csv('exam.csv',header=T)\n",
    "x = as.numeric(as.vector(matrix(as.matrix(xdd[2:11]),ncol=1)))\n",
    "breaks=seq(from=10,by=10, length.out=10);"
   ]
  },
  {
   "cell_type": "code",
   "execution_count": 187,
   "metadata": {},
   "outputs": [],
   "source": [
    "xm=as.numeric(as.vector((as.matrix(xdd))[1:3,2:11]))\n",
    "xf=as.numeric(as.vector((as.matrix(xdd))[4:7,2:11]))"
   ]
  },
  {
   "cell_type": "code",
   "execution_count": null,
   "metadata": {},
   "outputs": [],
   "source": []
  },
  {
   "cell_type": "code",
   "execution_count": 188,
   "metadata": {},
   "outputs": [
    {
     "name": "stdout",
     "output_type": "stream",
     "text": [
      "\n",
      "  The decimal point is 1 digit(s) to the right of the |\n",
      "\n",
      "  1 | 01124\n",
      "  2 | 124578\n",
      "  3 | 11344466\n",
      "  4 | 1335799\n",
      "  5 | 122446\n",
      "  6 | 002224666688\n",
      "  7 | 0255557777999\n",
      "  8 | 1222467\n",
      "  9 | 044567\n",
      "\n"
     ]
    }
   ],
   "source": [
    "\n",
    "histG=function(xx,main){\n",
    "    \n",
    "    \n",
    "    k = hist(xx,breaks=breaks,main=main,xlim=c(0,100));k;\n",
    "\n",
    "    n<-length(xx);\n",
    "    nn=length(k)\n",
    "    xcf=cumsum(k$counts);\n",
    "    xrf<-k$counts/n;\n",
    "    xrcf<-xcf/n \n",
    "    xtable <- cbind(k$mids, k$counts,xcf,xrf,xrcf)\n",
    "\n",
    "    xclass<-paste0('[',k$breaks[-nn], ',',k$breaks[-1],')');\n",
    "    rownames(xtable)<-xclass\n",
    "    colnames(xtable)<-c('대푯값','도수','누적도수','상대도수','상대누적도수')\n",
    "    print(xtable)\n",
    "    \n",
    "}\n",
    "Get = function (xx,name){\n",
    "    xmean=mean(xx);\n",
    "    xmed=median(xx);\n",
    "    xsd=sd(xx);\n",
    "    xiqr<-quantile(xx,0.75)-quantile(xx,0.25);\n",
    "    cat('종류=',name,'평균=',xmean,'중앙값=',xmed,'표준편차=',xsd,'IQR=',xiqr,'\\n');\n",
    "\n",
    "}\n",
    "\n",
    "#hist(x,breaks=breaks,right=F, main='성적',xlab='성적',ylab='도수',xlim=c(0,100));\n",
    "stem(x,scale=1)"
   ]
  },
  {
   "cell_type": "code",
   "execution_count": 216,
   "metadata": {},
   "outputs": [
    {
     "name": "stdout",
     "output_type": "stream",
     "text": [
      "______________________________\n",
      "  1 | 2: represents 12, leaf unit: 1 \n",
      "          xm      xf      \n",
      "______________________________\n",
      "        4110|  1 |2           \n",
      "         721|  2 |458         \n",
      "        4311|  3 |4466        \n",
      "           3|  4 |135799      \n",
      "           4|  5 |12246       \n",
      "     8662200|  6 |24668       \n",
      "       77552|  7 |05577999    \n",
      "         641|  8 |2227        \n",
      "          64|  9 |0457        \n",
      "            | 10 |            \n",
      "______________________________\n",
      "n:        30      40      \n",
      "______________________________\n"
     ]
    }
   ],
   "source": [
    "d1 = read.csv('chole.csv',header=T);\n",
    "library('aplpack')#패키지 설치필요\n",
    "stem.leaf.backback(xm,xf,m=1,depth=F)"
   ]
  },
  {
   "cell_type": "code",
   "execution_count": 190,
   "metadata": {
    "collapsed": true
   },
   "outputs": [
    {
     "name": "stdout",
     "output_type": "stream",
     "text": [
      "          대푯값 도수 누적도수   상대도수 상대누적도수\n",
      "[10,20)       15    5        5 0.07142857   0.07142857\n",
      "[20,30)       25    6       11 0.08571429   0.15714286\n",
      "[30,40)       35    8       19 0.11428571   0.27142857\n",
      "[40,50)       45    7       26 0.10000000   0.37142857\n",
      "[50,60)       55    8       34 0.11428571   0.48571429\n",
      "[70,70)       65   11       45 0.15714286   0.64285714\n",
      "[80,80)       75   12       57 0.17142857   0.81428571\n",
      "[90,90)       85    8       65 0.11428571   0.92857143\n",
      "[100,100)     95    5       70 0.07142857   1.00000000\n"
     ]
    },
    {
     "data": {
      "image/png": "[encoded data removed]",
      "text/plain": [
       "Plot with title \"전체\""
      ]
     },
     "metadata": {
      "image/png": {
       "height": 420,
       "width": 420
      }
     },
     "output_type": "display_data"
    }
   ],
   "source": [
    "histG(x,'전체')"
   ]
  },
  {
   "cell_type": "code",
   "execution_count": 191,
   "metadata": {},
   "outputs": [
    {
     "name": "stdout",
     "output_type": "stream",
     "text": [
      "종류= 전체 평균= 57.38571 중앙값= 62 표준편차= 24.36575 IQR= 41 \n"
     ]
    }
   ],
   "source": [
    "Get(x,'전체')"
   ]
  },
  {
   "cell_type": "code",
   "execution_count": 192,
   "metadata": {
    "scrolled": true
   },
   "outputs": [
    {
     "name": "stdout",
     "output_type": "stream",
     "text": [
      "          대푯값 도수 누적도수   상대도수 상대누적도수\n",
      "[10,20)       15    4        4 0.13333333    0.1333333\n",
      "[20,30)       25    3        7 0.10000000    0.2333333\n",
      "[30,40)       35    4       11 0.13333333    0.3666667\n",
      "[40,50)       45    1       12 0.03333333    0.4000000\n",
      "[50,60)       55    3       15 0.10000000    0.5000000\n",
      "[70,70)       65    5       20 0.16666667    0.6666667\n",
      "[80,80)       75    5       25 0.16666667    0.8333333\n",
      "[90,90)       85    3       28 0.10000000    0.9333333\n",
      "[100,100)     95    2       30 0.06666667    1.0000000\n"
     ]
    },
    {
     "data": {
      "image/png": "[encoded data removed]",
      "text/plain": [
       "Plot with title \"남자\""
      ]
     },
     "metadata": {
      "image/png": {
       "height": 420,
       "width": 420
      }
     },
     "output_type": "display_data"
    },
    {
     "name": "stdout",
     "output_type": "stream",
     "text": [
      "          대푯값 도수 누적도수 상대도수 상대누적도수\n",
      "[10,20)       15    1        1    0.025        0.025\n",
      "[20,30)       25    3        4    0.075        0.100\n",
      "[30,40)       35    4        8    0.100        0.200\n",
      "[40,50)       45    6       14    0.150        0.350\n",
      "[50,60)       55    5       19    0.125        0.475\n",
      "[70,70)       65    6       25    0.150        0.625\n",
      "[80,80)       75    7       32    0.175        0.800\n",
      "[90,90)       85    5       37    0.125        0.925\n",
      "[100,100)     95    3       40    0.075        1.000\n"
     ]
    },
    {
     "data": {
      "image/png": "[encoded data removed]",
      "text/plain": [
       "Plot with title \"여자\""
      ]
     },
     "metadata": {
      "image/png": {
       "height": 420,
       "width": 420
      }
     },
     "output_type": "display_data"
    }
   ],
   "source": [
    "histG(xm,'남자')\n",
    "histG(xf,'여자')"
   ]
  },
  {
   "cell_type": "code",
   "execution_count": 217,
   "metadata": {},
   "outputs": [
    {
     "name": "stdout",
     "output_type": "stream",
     "text": [
      "종류= 남자 평균= 53.43333 중앙값= 61 표준편차= 26.9427 IQR= 44 \n",
      "종류= 여자 평균= 60.35 중앙값= 63 표준편차= 22.12615 IQR= 34.5 \n"
     ]
    }
   ],
   "source": [
    "Get(xm,'남자')\n",
    "Get(xf,'여자')"
   ]
  },
  {
   "cell_type": "code",
   "execution_count": 231,
   "metadata": {},
   "outputs": [
    {
     "data": {
      "text/html": [
       "8"
      ],
      "text/latex": [
       "8"
      ],
      "text/markdown": [
       "8"
      ],
      "text/plain": [
       "[1] 8"
      ]
     },
     "metadata": {},
     "output_type": "display_data"
    },
    {
     "name": "stdout",
     "output_type": "stream",
     "text": [
      "남 3 여 5 \n",
      "남 92 여 92.6 \n"
     ]
    },
    {
     "data": {
      "text/html": [
       "92.375"
      ],
      "text/latex": [
       "92.375"
      ],
      "text/markdown": [
       "92.375"
      ],
      "text/plain": [
       "[1] 92.375"
      ]
     },
     "metadata": {},
     "output_type": "display_data"
    }
   ],
   "source": [
    "sum(xm>=85)+sum(xf>=85);\n",
    "cat('남',sum(xm>=85),'여',sum(xf>=85),'\\n')\n",
    "cat('남',mean(xm[xm>=85]),'여',mean(xf[xf>=85]),'\\n')\n",
    "mean(c(xm[xm>=85],xf[xf>=85]))"
   ]
  },
  {
   "cell_type": "code",
   "execution_count": null,
   "metadata": {},
   "outputs": [],
   "source": [
    "cut=min(-sort(-x)[1:5])"
   ]
  },
  {
   "cell_type": "code",
   "execution_count": 232,
   "metadata": {},
   "outputs": [
    {
     "name": "stdout",
     "output_type": "stream",
     "text": [
      "남 81 여 87 \n"
     ]
    }
   ],
   "source": [
    "cat('남',min(-sort(-xm)[1:5]),'여',min(-sort(-xf)[1:5]),'\\n')"
   ]
  },
  {
   "cell_type": "code",
   "execution_count": 233,
   "metadata": {},
   "outputs": [
    {
     "data": {
      "text/html": [
       "<style>\n",
       ".list-inline {list-style: none; margin:0; padding: 0}\n",
       ".list-inline>li {display: inline-block}\n",
       ".list-inline>li:not(:last-child)::after {content: \"\\00b7\"; padding: 0 .5ex}\n",
       "</style>\n",
       "<ol class=list-inline><li>96</li><li>94</li><li>86</li><li>84</li><li>81</li><li>77</li><li>77</li><li>75</li><li>75</li><li>72</li><li>68</li><li>66</li><li>66</li><li>62</li><li>62</li><li>60</li><li>60</li><li>54</li><li>43</li><li>34</li><li>33</li><li>31</li><li>31</li><li>27</li><li>22</li><li>21</li><li>14</li><li>11</li><li>11</li><li>10</li></ol>\n"
      ],
      "text/latex": [
       "\\begin{enumerate*}\n",
       "\\item 96\n",
       "\\item 94\n",
       "\\item 86\n",
       "\\item 84\n",
       "\\item 81\n",
       "\\item 77\n",
       "\\item 77\n",
       "\\item 75\n",
       "\\item 75\n",
       "\\item 72\n",
       "\\item 68\n",
       "\\item 66\n",
       "\\item 66\n",
       "\\item 62\n",
       "\\item 62\n",
       "\\item 60\n",
       "\\item 60\n",
       "\\item 54\n",
       "\\item 43\n",
       "\\item 34\n",
       "\\item 33\n",
       "\\item 31\n",
       "\\item 31\n",
       "\\item 27\n",
       "\\item 22\n",
       "\\item 21\n",
       "\\item 14\n",
       "\\item 11\n",
       "\\item 11\n",
       "\\item 10\n",
       "\\end{enumerate*}\n"
      ],
      "text/markdown": [
       "1. 96\n",
       "2. 94\n",
       "3. 86\n",
       "4. 84\n",
       "5. 81\n",
       "6. 77\n",
       "7. 77\n",
       "8. 75\n",
       "9. 75\n",
       "10. 72\n",
       "11. 68\n",
       "12. 66\n",
       "13. 66\n",
       "14. 62\n",
       "15. 62\n",
       "16. 60\n",
       "17. 60\n",
       "18. 54\n",
       "19. 43\n",
       "20. 34\n",
       "21. 33\n",
       "22. 31\n",
       "23. 31\n",
       "24. 27\n",
       "25. 22\n",
       "26. 21\n",
       "27. 14\n",
       "28. 11\n",
       "29. 11\n",
       "30. 10\n",
       "\n",
       "\n"
      ],
      "text/plain": [
       " [1] 96 94 86 84 81 77 77 75 75 72 68 66 66 62 62 60 60 54 43 34 33 31 31 27 22\n",
       "[26] 21 14 11 11 10"
      ]
     },
     "metadata": {},
     "output_type": "display_data"
    },
    {
     "data": {
      "text/html": [
       "<style>\n",
       ".list-inline {list-style: none; margin:0; padding: 0}\n",
       ".list-inline>li {display: inline-block}\n",
       ".list-inline>li:not(:last-child)::after {content: \"\\00b7\"; padding: 0 .5ex}\n",
       "</style>\n",
       "<ol class=list-inline><li>97</li><li>95</li><li>94</li><li>90</li><li>87</li><li>82</li><li>82</li><li>82</li><li>79</li><li>79</li><li>79</li><li>77</li><li>77</li><li>75</li><li>75</li><li>70</li><li>68</li><li>66</li><li>66</li><li>64</li><li>62</li><li>56</li><li>54</li><li>52</li><li>52</li><li>51</li><li>49</li><li>49</li><li>47</li><li>45</li><li>43</li><li>41</li><li>36</li><li>36</li><li>34</li><li>34</li><li>28</li><li>25</li><li>24</li><li>12</li></ol>\n"
      ],
      "text/latex": [
       "\\begin{enumerate*}\n",
       "\\item 97\n",
       "\\item 95\n",
       "\\item 94\n",
       "\\item 90\n",
       "\\item 87\n",
       "\\item 82\n",
       "\\item 82\n",
       "\\item 82\n",
       "\\item 79\n",
       "\\item 79\n",
       "\\item 79\n",
       "\\item 77\n",
       "\\item 77\n",
       "\\item 75\n",
       "\\item 75\n",
       "\\item 70\n",
       "\\item 68\n",
       "\\item 66\n",
       "\\item 66\n",
       "\\item 64\n",
       "\\item 62\n",
       "\\item 56\n",
       "\\item 54\n",
       "\\item 52\n",
       "\\item 52\n",
       "\\item 51\n",
       "\\item 49\n",
       "\\item 49\n",
       "\\item 47\n",
       "\\item 45\n",
       "\\item 43\n",
       "\\item 41\n",
       "\\item 36\n",
       "\\item 36\n",
       "\\item 34\n",
       "\\item 34\n",
       "\\item 28\n",
       "\\item 25\n",
       "\\item 24\n",
       "\\item 12\n",
       "\\end{enumerate*}\n"
      ],
      "text/markdown": [
       "1. 97\n",
       "2. 95\n",
       "3. 94\n",
       "4. 90\n",
       "5. 87\n",
       "6. 82\n",
       "7. 82\n",
       "8. 82\n",
       "9. 79\n",
       "10. 79\n",
       "11. 79\n",
       "12. 77\n",
       "13. 77\n",
       "14. 75\n",
       "15. 75\n",
       "16. 70\n",
       "17. 68\n",
       "18. 66\n",
       "19. 66\n",
       "20. 64\n",
       "21. 62\n",
       "22. 56\n",
       "23. 54\n",
       "24. 52\n",
       "25. 52\n",
       "26. 51\n",
       "27. 49\n",
       "28. 49\n",
       "29. 47\n",
       "30. 45\n",
       "31. 43\n",
       "32. 41\n",
       "33. 36\n",
       "34. 36\n",
       "35. 34\n",
       "36. 34\n",
       "37. 28\n",
       "38. 25\n",
       "39. 24\n",
       "40. 12\n",
       "\n",
       "\n"
      ],
      "text/plain": [
       " [1] 97 95 94 90 87 82 82 82 79 79 79 77 77 75 75 70 68 66 66 64 62 56 54 52 52\n",
       "[26] 51 49 49 47 45 43 41 36 36 34 34 28 25 24 12"
      ]
     },
     "metadata": {},
     "output_type": "display_data"
    }
   ],
   "source": [
    "-sort(-xm)\n",
    "-sort(-xf)"
   ]
  },
  {
   "cell_type": "code",
   "execution_count": 195,
   "metadata": {},
   "outputs": [
    {
     "name": "stderr",
     "output_type": "stream",
     "text": [
      "Warning message in xm + xf:\n",
      "\"두 객체의 길이가 서로 배수관계에 있지 않습니다\"\n"
     ]
    },
    {
     "data": {
      "text/html": [
       "<style>\n",
       ".list-inline {list-style: none; margin:0; padding: 0}\n",
       ".list-inline>li {display: inline-block}\n",
       ".list-inline>li:not(:last-child)::after {content: \"\\00b7\"; padding: 0 .5ex}\n",
       "</style>\n",
       "<ol class=list-inline><li>96</li><li>143</li><li>52</li><li>174</li><li>173</li><li>161</li><li>145</li><li>151</li><li>86</li><li>106</li><li>183</li><li>163</li><li>53</li><li>26</li><li>122</li><li>141</li><li>124</li><li>95</li><li>62</li><li>80</li><li>112</li><li>91</li><li>99</li><li>92</li><li>144</li><li>102</li><li>94</li><li>111</li><li>120</li><li>141</li><li>128</li><li>102</li><li>45</li><li>166</li><li>152</li><li>143</li><li>156</li><li>119</li><li>58</li><li>76</li></ol>\n"
      ],
      "text/latex": [
       "\\begin{enumerate*}\n",
       "\\item 96\n",
       "\\item 143\n",
       "\\item 52\n",
       "\\item 174\n",
       "\\item 173\n",
       "\\item 161\n",
       "\\item 145\n",
       "\\item 151\n",
       "\\item 86\n",
       "\\item 106\n",
       "\\item 183\n",
       "\\item 163\n",
       "\\item 53\n",
       "\\item 26\n",
       "\\item 122\n",
       "\\item 141\n",
       "\\item 124\n",
       "\\item 95\n",
       "\\item 62\n",
       "\\item 80\n",
       "\\item 112\n",
       "\\item 91\n",
       "\\item 99\n",
       "\\item 92\n",
       "\\item 144\n",
       "\\item 102\n",
       "\\item 94\n",
       "\\item 111\n",
       "\\item 120\n",
       "\\item 141\n",
       "\\item 128\n",
       "\\item 102\n",
       "\\item 45\n",
       "\\item 166\n",
       "\\item 152\n",
       "\\item 143\n",
       "\\item 156\n",
       "\\item 119\n",
       "\\item 58\n",
       "\\item 76\n",
       "\\end{enumerate*}\n"
      ],
      "text/markdown": [
       "1. 96\n",
       "2. 143\n",
       "3. 52\n",
       "4. 174\n",
       "5. 173\n",
       "6. 161\n",
       "7. 145\n",
       "8. 151\n",
       "9. 86\n",
       "10. 106\n",
       "11. 183\n",
       "12. 163\n",
       "13. 53\n",
       "14. 26\n",
       "15. 122\n",
       "16. 141\n",
       "17. 124\n",
       "18. 95\n",
       "19. 62\n",
       "20. 80\n",
       "21. 112\n",
       "22. 91\n",
       "23. 99\n",
       "24. 92\n",
       "25. 144\n",
       "26. 102\n",
       "27. 94\n",
       "28. 111\n",
       "29. 120\n",
       "30. 141\n",
       "31. 128\n",
       "32. 102\n",
       "33. 45\n",
       "34. 166\n",
       "35. 152\n",
       "36. 143\n",
       "37. 156\n",
       "38. 119\n",
       "39. 58\n",
       "40. 76\n",
       "\n",
       "\n"
      ],
      "text/plain": [
       " [1]  96 143  52 174 173 161 145 151  86 106 183 163  53  26 122 141 124  95  62\n",
       "[20]  80 112  91  99  92 144 102  94 111 120 141 128 102  45 166 152 143 156 119\n",
       "[39]  58  76"
      ]
     },
     "metadata": {},
     "output_type": "display_data"
    },
    {
     "data": {
      "text/html": [
       "<style>\n",
       ".list-inline {list-style: none; margin:0; padding: 0}\n",
       ".list-inline>li {display: inline-block}\n",
       ".list-inline>li:not(:last-child)::after {content: \"\\00b7\"; padding: 0 .5ex}\n",
       "</style>\n",
       "<ol class=list-inline><li>34</li><li>77</li><li>11</li><li>62</li><li>66</li><li>41</li><li>90</li><li>84</li><li>96</li><li>66</li><li>77</li><li>95</li><li>68</li><li>79</li><li>77</li><li>72</li><li>22</li><li>64</li><li>75</li><li>97</li><li>82</li><li>31</li><li>86</li><li>81</li><li>43</li><li>12</li><li>28</li><li>79</li><li>10</li><li>14</li><li>94</li><li>49</li><li>52</li><li>51</li><li>49</li><li>62</li><li>75</li><li>43</li><li>52</li><li>70</li><li>66</li><li>24</li><li>11</li><li>31</li><li>60</li><li>82</li><li>75</li><li>34</li><li>36</li><li>21</li><li>33</li><li>68</li><li>54</li><li>87</li><li>94</li><li>25</li><li>62</li><li>27</li><li>60</li><li>34</li><li>82</li><li>56</li><li>77</li><li>75</li><li>66</li><li>54</li><li>79</li><li>47</li><li>36</li><li>45</li></ol>\n"
      ],
      "text/latex": [
       "\\begin{enumerate*}\n",
       "\\item 34\n",
       "\\item 77\n",
       "\\item 11\n",
       "\\item 62\n",
       "\\item 66\n",
       "\\item 41\n",
       "\\item 90\n",
       "\\item 84\n",
       "\\item 96\n",
       "\\item 66\n",
       "\\item 77\n",
       "\\item 95\n",
       "\\item 68\n",
       "\\item 79\n",
       "\\item 77\n",
       "\\item 72\n",
       "\\item 22\n",
       "\\item 64\n",
       "\\item 75\n",
       "\\item 97\n",
       "\\item 82\n",
       "\\item 31\n",
       "\\item 86\n",
       "\\item 81\n",
       "\\item 43\n",
       "\\item 12\n",
       "\\item 28\n",
       "\\item 79\n",
       "\\item 10\n",
       "\\item 14\n",
       "\\item 94\n",
       "\\item 49\n",
       "\\item 52\n",
       "\\item 51\n",
       "\\item 49\n",
       "\\item 62\n",
       "\\item 75\n",
       "\\item 43\n",
       "\\item 52\n",
       "\\item 70\n",
       "\\item 66\n",
       "\\item 24\n",
       "\\item 11\n",
       "\\item 31\n",
       "\\item 60\n",
       "\\item 82\n",
       "\\item 75\n",
       "\\item 34\n",
       "\\item 36\n",
       "\\item 21\n",
       "\\item 33\n",
       "\\item 68\n",
       "\\item 54\n",
       "\\item 87\n",
       "\\item 94\n",
       "\\item 25\n",
       "\\item 62\n",
       "\\item 27\n",
       "\\item 60\n",
       "\\item 34\n",
       "\\item 82\n",
       "\\item 56\n",
       "\\item 77\n",
       "\\item 75\n",
       "\\item 66\n",
       "\\item 54\n",
       "\\item 79\n",
       "\\item 47\n",
       "\\item 36\n",
       "\\item 45\n",
       "\\end{enumerate*}\n"
      ],
      "text/markdown": [
       "1. 34\n",
       "2. 77\n",
       "3. 11\n",
       "4. 62\n",
       "5. 66\n",
       "6. 41\n",
       "7. 90\n",
       "8. 84\n",
       "9. 96\n",
       "10. 66\n",
       "11. 77\n",
       "12. 95\n",
       "13. 68\n",
       "14. 79\n",
       "15. 77\n",
       "16. 72\n",
       "17. 22\n",
       "18. 64\n",
       "19. 75\n",
       "20. 97\n",
       "21. 82\n",
       "22. 31\n",
       "23. 86\n",
       "24. 81\n",
       "25. 43\n",
       "26. 12\n",
       "27. 28\n",
       "28. 79\n",
       "29. 10\n",
       "30. 14\n",
       "31. 94\n",
       "32. 49\n",
       "33. 52\n",
       "34. 51\n",
       "35. 49\n",
       "36. 62\n",
       "37. 75\n",
       "38. 43\n",
       "39. 52\n",
       "40. 70\n",
       "41. 66\n",
       "42. 24\n",
       "43. 11\n",
       "44. 31\n",
       "45. 60\n",
       "46. 82\n",
       "47. 75\n",
       "48. 34\n",
       "49. 36\n",
       "50. 21\n",
       "51. 33\n",
       "52. 68\n",
       "53. 54\n",
       "54. 87\n",
       "55. 94\n",
       "56. 25\n",
       "57. 62\n",
       "58. 27\n",
       "59. 60\n",
       "60. 34\n",
       "61. 82\n",
       "62. 56\n",
       "63. 77\n",
       "64. 75\n",
       "65. 66\n",
       "66. 54\n",
       "67. 79\n",
       "68. 47\n",
       "69. 36\n",
       "70. 45\n",
       "\n",
       "\n"
      ],
      "text/plain": [
       " [1] 34 77 11 62 66 41 90 84 96 66 77 95 68 79 77 72 22 64 75 97 82 31 86 81 43\n",
       "[26] 12 28 79 10 14 94 49 52 51 49 62 75 43 52 70 66 24 11 31 60 82 75 34 36 21\n",
       "[51] 33 68 54 87 94 25 62 27 60 34 82 56 77 75 66 54 79 47 36 45"
      ]
     },
     "metadata": {},
     "output_type": "display_data"
    }
   ],
   "source": []
  },
  {
   "cell_type": "code",
   "execution_count": 196,
   "metadata": {},
   "outputs": [
    {
     "data": {
      "text/html": [
       "<style>\n",
       ".list-inline {list-style: none; margin:0; padding: 0}\n",
       ".list-inline>li {display: inline-block}\n",
       ".list-inline>li:not(:last-child)::after {content: \"\\00b7\"; padding: 0 .5ex}\n",
       "</style>\n",
       "<ol class=list-inline><li>97</li><li>96</li><li>95</li><li>94</li><li>94</li><li>90</li><li>87</li><li>86</li><li>84</li></ol>\n"
      ],
      "text/latex": [
       "\\begin{enumerate*}\n",
       "\\item 97\n",
       "\\item 96\n",
       "\\item 95\n",
       "\\item 94\n",
       "\\item 94\n",
       "\\item 90\n",
       "\\item 87\n",
       "\\item 86\n",
       "\\item 84\n",
       "\\end{enumerate*}\n"
      ],
      "text/markdown": [
       "1. 97\n",
       "2. 96\n",
       "3. 95\n",
       "4. 94\n",
       "5. 94\n",
       "6. 90\n",
       "7. 87\n",
       "8. 86\n",
       "9. 84\n",
       "\n",
       "\n"
      ],
      "text/plain": [
       "[1] 97 96 95 94 94 90 87 86 84"
      ]
     },
     "metadata": {},
     "output_type": "display_data"
    }
   ],
   "source": [
    "(-sort(-x)[1:9])"
   ]
  },
  {
   "cell_type": "code",
   "execution_count": 224,
   "metadata": {},
   "outputs": [
    {
     "name": "stdout",
     "output_type": "stream",
     "text": [
      "남자 4 여자 5 \n",
      "남자 90 여자 92.6[1] 84\n"
     ]
    }
   ],
   "source": [
    "cut=min(-sort(-x)[1:9])\n",
    "cat('남자',sum(xm>=cut),'여자',sum(xf>=cut),'\\n')\n",
    "cat('남자',mean(xm[xm>=cut]),'여자',mean(xf[xf>=cut]))\n",
    "print(cut);"
   ]
  },
  {
   "cell_type": "code",
   "execution_count": 235,
   "metadata": {},
   "outputs": [
    {
     "data": {
      "image/png": "[encoded data removed]",
      "text/plain": [
       "Plot with title \"점수\""
      ]
     },
     "metadata": {
      "image/png": {
       "height": 420,
       "width": 420
      }
     },
     "output_type": "display_data"
    }
   ],
   "source": [
    "plot.new();\n",
    "boxplot(x,main='점수',col='skyblue')\n",
    "fx=fivenum(x)\n",
    "text(1,fx,labels =fx,pos=3)"
   ]
  }
 ],
 "metadata": {
  "kernelspec": {
   "display_name": "R",
   "language": "R",
   "name": "ir"
  },
  "language_info": {
   "codemirror_mode": "r",
   "file_extension": ".r",
   "mimetype": "text/x-r-source",
   "name": "R",
   "pygments_lexer": "r",
   "version": "4.0.2"
  }
 },
 "nbformat": 4,
 "nbformat_minor": 4
}
