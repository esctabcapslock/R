{
 "cells": [
  {
   "cell_type": "markdown",
   "metadata": {},
   "source": [
    "## #1. 분활표"
   ]
  },
  {
   "cell_type": "code",
   "execution_count": 100,
   "metadata": {},
   "outputs": [
    {
     "data": {
      "text/html": [
       "<table>\n",
       "<caption>A table: 5 × 6 of type dbl</caption>\n",
       "<thead>\n",
       "\t<tr><th></th><th scope=col>교과활동</th><th scope=col>동아리</th><th scope=col>봉사활동</th><th scope=col>자율활동</th><th scope=col>진로활동</th><th scope=col>Sum</th></tr>\n",
       "</thead>\n",
       "<tbody>\n",
       "\t<tr><th scope=row>논술우수</th><td>22</td><td> 6</td><td>1</td><td> 8</td><td> 6</td><td> 43</td></tr>\n",
       "\t<tr><th scope=row>정시일반</th><td>35</td><td>16</td><td>1</td><td>28</td><td> 7</td><td> 87</td></tr>\n",
       "\t<tr><th scope=row>학생부교과</th><td>26</td><td> 5</td><td>4</td><td>13</td><td> 3</td><td> 51</td></tr>\n",
       "\t<tr><th scope=row>학생부종합</th><td> 3</td><td> 4</td><td>3</td><td>13</td><td> 6</td><td> 29</td></tr>\n",
       "\t<tr><th scope=row>Sum</th><td>86</td><td>31</td><td>9</td><td>62</td><td>22</td><td>210</td></tr>\n",
       "</tbody>\n",
       "</table>\n"
      ],
      "text/latex": [
       "A table: 5 × 6 of type dbl\n",
       "\\begin{tabular}{r|llllll}\n",
       "  & 교과활동 & 동아리 & 봉사활동 & 자율활동 & 진로활동 & Sum\\\\\n",
       "\\hline\n",
       "\t논술우수 & 22 &  6 & 1 &  8 &  6 &  43\\\\\n",
       "\t정시일반 & 35 & 16 & 1 & 28 &  7 &  87\\\\\n",
       "\t학생부교과 & 26 &  5 & 4 & 13 &  3 &  51\\\\\n",
       "\t학생부종합 &  3 &  4 & 3 & 13 &  6 &  29\\\\\n",
       "\tSum & 86 & 31 & 9 & 62 & 22 & 210\\\\\n",
       "\\end{tabular}\n"
      ],
      "text/markdown": [
       "\n",
       "A table: 5 × 6 of type dbl\n",
       "\n",
       "| <!--/--> | 교과활동 | 동아리 | 봉사활동 | 자율활동 | 진로활동 | Sum |\n",
       "|---|---|---|---|---|---|---|\n",
       "| 논술우수 | 22 |  6 | 1 |  8 |  6 |  43 |\n",
       "| 정시일반 | 35 | 16 | 1 | 28 |  7 |  87 |\n",
       "| 학생부교과 | 26 |  5 | 4 | 13 |  3 |  51 |\n",
       "| 학생부종합 |  3 |  4 | 3 | 13 |  6 |  29 |\n",
       "| Sum | 86 | 31 | 9 | 62 | 22 | 210 |\n",
       "\n"
      ],
      "text/plain": [
       "            \n",
       "             교과활동 동아리 봉사활동 자율활동 진로활동 Sum\n",
       "  논술우수   22        6     1         8        6        43\n",
       "  정시일반   35       16     1        28        7        87\n",
       "  학생부교과 26        5     4        13        3        51\n",
       "  학생부종합  3        4     3        13        6        29\n",
       "  Sum        86       31     9        62       22       210"
      ]
     },
     "metadata": {},
     "output_type": "display_data"
    }
   ],
   "source": [
    "d = read.csv('adm.csv',header=T);\n",
    "x= table(d[[2]],d[[3]])\n",
    "with(d,addmargins(x))"
   ]
  },
  {
   "cell_type": "code",
   "execution_count": 22,
   "metadata": {},
   "outputs": [
    {
     "data": {
      "text/plain": [
       "입학전형\n",
       "  논술우수   정시일반 학생부교과 학생부종합        Sum \n",
       "        43         87         51         29        210 "
      ]
     },
     "metadata": {},
     "output_type": "display_data"
    },
    {
     "data": {
      "text/plain": [
       "참여활동\n",
       "교과활동   동아리 봉사활동 자율활동 진로활동      Sum \n",
       "      86       31        9       62       22      210 "
      ]
     },
     "metadata": {},
     "output_type": "display_data"
    }
   ],
   "source": [
    "with(d,addmargins(table(입학전형)))\n",
    "with(d,addmargins(table(참여활동)))\n"
   ]
  },
  {
   "cell_type": "code",
   "execution_count": 99,
   "metadata": {},
   "outputs": [
    {
     "data": {
      "text/plain": [
       "\n",
       "  논술우수   정시일반 학생부교과 학생부종합 \n",
       "        43         87         51         29 "
      ]
     },
     "metadata": {},
     "output_type": "display_data"
    }
   ],
   "source": [
    "table(d$입학전형)"
   ]
  },
  {
   "cell_type": "markdown",
   "metadata": {},
   "source": [
    "## #2. 줄기-잎 그림"
   ]
  },
  {
   "cell_type": "code",
   "execution_count": 76,
   "metadata": {},
   "outputs": [
    {
     "name": "stdout",
     "output_type": "stream",
     "text": [
      "\n",
      "  The decimal point is 1 digit(s) to the right of the |\n",
      "\n",
      "  13 | 34\n",
      "  14 | \n",
      "  15 | 5\n",
      "  16 | \n",
      "  17 | 059\n",
      "  18 | 1489\n",
      "  19 | 0677\n",
      "  20 | 001145556\n",
      "  21 | 47\n",
      "  22 | 22778\n",
      "  23 | 4469\n",
      "  24 | 1249\n",
      "  25 | 2\n",
      "  26 | \n",
      "  27 | 39\n",
      "  28 | 444\n",
      "  29 | \n",
      "  30 | \n",
      "  31 | \n",
      "  32 | \n",
      "  33 | 0\n",
      "\n",
      "\n",
      "  The decimal point is 1 digit(s) to the right of the |\n",
      "\n",
      "   9 | 5\n",
      "  10 | \n",
      "  10 | 88\n",
      "  11 | 4\n",
      "  11 | 5\n",
      "  12 | 4\n",
      "  12 | 99\n",
      "  13 | 11\n",
      "  13 | 5669\n",
      "  14 | 0223344\n",
      "  14 | 568\n",
      "  15 | 22\n",
      "  15 | 5788\n",
      "  16 | 2\n",
      "  16 | 56\n",
      "  17 | 1234\n",
      "  17 | 5\n",
      "  18 | 0\n",
      "  18 | 9\n",
      "  19 | 124\n",
      "  19 | 7\n",
      "  20 | 4\n",
      "  20 | \n",
      "  21 | \n",
      "  21 | \n",
      "  22 | 03\n",
      "  22 | 6\n",
      "  23 | 1\n",
      "\n"
     ]
    }
   ],
   "source": [
    "d1 = read.csv('chole.csv',header=T);\n",
    "#d1\n",
    "xx<-stem(d1$도시사람,scale=2);\n",
    "yy<-stem(d1$지방사람,scale=3);\n",
    "#help(stem)"
   ]
  },
  {
   "cell_type": "code",
   "execution_count": 78,
   "metadata": {},
   "outputs": [
    {
     "ename": "ERROR",
     "evalue": "Error in parse(text = x, srcfile = src): <text>:2:0: 예상하지 못한 입력의 끝(end of input)입니다.\n1: table(xx<-stem(d1$도시사람,scale=2),yy<-stem(d1$지방사람,scale=3)\n   ^\n",
     "output_type": "error",
     "traceback": [
      "Error in parse(text = x, srcfile = src): <text>:2:0: 예상하지 못한 입력의 끝(end of input)입니다.\n1: table(xx<-stem(d1$도시사람,scale=2),yy<-stem(d1$지방사람,scale=3)\n   ^\nTraceback:\n"
     ]
    }
   ],
   "source": [
    "table(xx<-stem(d1$도시사람,scale=2),yy<-stem(d1$지방사람,scale=3)"
   ]
  },
  {
   "cell_type": "code",
   "execution_count": 96,
   "metadata": {},
   "outputs": [
    {
     "name": "stdout",
     "output_type": "stream",
     "text": [
      "__________________________________\n",
      "  1 | 2: represents 12, leaf unit: 1 \n",
      "       d1$도시사람      d1$지방사람   \n",
      "__________________________________\n",
      "              |  9 |5             \n",
      "              | 10 |88            \n",
      "              | 11 |45            \n",
      "              | 12 |499           \n",
      "            43| 13 |115669        \n",
      "              | 14 |0223344568    \n",
      "             5| 15 |225788        \n",
      "              | 16 |256           \n",
      "           950| 17 |12345         \n",
      "          9841| 18 |09            \n",
      "          7760| 19 |1247          \n",
      "     655541100| 20 |4             \n",
      "            74| 21 |              \n",
      "         87722| 22 |036           \n",
      "          9644| 23 |1             \n",
      "          9421| 24 |              \n",
      "             2| 25 |              \n",
      "              | 26 |              \n",
      "            93| 27 |              \n",
      "           444| 28 |              \n",
      "              | 29 |              \n",
      "              | 30 |              \n",
      "              | 31 |              \n",
      "              | 32 |              \n",
      "             0| 33 |              \n",
      "__________________________________\n",
      "n:          49      49        \n",
      "NAs:         4      0         \n",
      "__________________________________\n"
     ]
    }
   ],
   "source": [
    "library('aplpack')\n",
    "stem.leaf.backback(d1$도시사람,d1$지방사람,unit=1,depth=F)"
   ]
  },
  {
   "cell_type": "markdown",
   "metadata": {},
   "source": [
    "## #3.  [과제4] 히스토그램"
   ]
  },
  {
   "cell_type": "code",
   "execution_count": 122,
   "metadata": {
    "scrolled": true
   },
   "outputs": [
    {
     "data": {
      "text/html": [
       "<table>\n",
       "<caption>A data.frame: 150 × 5</caption>\n",
       "<thead>\n",
       "\t<tr><th scope=col>Sepal.Length</th><th scope=col>Sepal.Width</th><th scope=col>Petal.Length</th><th scope=col>Petal.Width</th><th scope=col>Species</th></tr>\n",
       "\t<tr><th scope=col>&lt;dbl&gt;</th><th scope=col>&lt;dbl&gt;</th><th scope=col>&lt;dbl&gt;</th><th scope=col>&lt;dbl&gt;</th><th scope=col>&lt;fct&gt;</th></tr>\n",
       "</thead>\n",
       "<tbody>\n",
       "\t<tr><td>5.1</td><td>3.5</td><td>1.4</td><td>0.2</td><td>setosa</td></tr>\n",
       "\t<tr><td>4.9</td><td>3.0</td><td>1.4</td><td>0.2</td><td>setosa</td></tr>\n",
       "\t<tr><td>4.7</td><td>3.2</td><td>1.3</td><td>0.2</td><td>setosa</td></tr>\n",
       "\t<tr><td>4.6</td><td>3.1</td><td>1.5</td><td>0.2</td><td>setosa</td></tr>\n",
       "\t<tr><td>5.0</td><td>3.6</td><td>1.4</td><td>0.2</td><td>setosa</td></tr>\n",
       "\t<tr><td>5.4</td><td>3.9</td><td>1.7</td><td>0.4</td><td>setosa</td></tr>\n",
       "\t<tr><td>4.6</td><td>3.4</td><td>1.4</td><td>0.3</td><td>setosa</td></tr>\n",
       "\t<tr><td>5.0</td><td>3.4</td><td>1.5</td><td>0.2</td><td>setosa</td></tr>\n",
       "\t<tr><td>4.4</td><td>2.9</td><td>1.4</td><td>0.2</td><td>setosa</td></tr>\n",
       "\t<tr><td>4.9</td><td>3.1</td><td>1.5</td><td>0.1</td><td>setosa</td></tr>\n",
       "\t<tr><td>5.4</td><td>3.7</td><td>1.5</td><td>0.2</td><td>setosa</td></tr>\n",
       "\t<tr><td>4.8</td><td>3.4</td><td>1.6</td><td>0.2</td><td>setosa</td></tr>\n",
       "\t<tr><td>4.8</td><td>3.0</td><td>1.4</td><td>0.1</td><td>setosa</td></tr>\n",
       "\t<tr><td>4.3</td><td>3.0</td><td>1.1</td><td>0.1</td><td>setosa</td></tr>\n",
       "\t<tr><td>5.8</td><td>4.0</td><td>1.2</td><td>0.2</td><td>setosa</td></tr>\n",
       "\t<tr><td>5.7</td><td>4.4</td><td>1.5</td><td>0.4</td><td>setosa</td></tr>\n",
       "\t<tr><td>5.4</td><td>3.9</td><td>1.3</td><td>0.4</td><td>setosa</td></tr>\n",
       "\t<tr><td>5.1</td><td>3.5</td><td>1.4</td><td>0.3</td><td>setosa</td></tr>\n",
       "\t<tr><td>5.7</td><td>3.8</td><td>1.7</td><td>0.3</td><td>setosa</td></tr>\n",
       "\t<tr><td>5.1</td><td>3.8</td><td>1.5</td><td>0.3</td><td>setosa</td></tr>\n",
       "\t<tr><td>5.4</td><td>3.4</td><td>1.7</td><td>0.2</td><td>setosa</td></tr>\n",
       "\t<tr><td>5.1</td><td>3.7</td><td>1.5</td><td>0.4</td><td>setosa</td></tr>\n",
       "\t<tr><td>4.6</td><td>3.6</td><td>1.0</td><td>0.2</td><td>setosa</td></tr>\n",
       "\t<tr><td>5.1</td><td>3.3</td><td>1.7</td><td>0.5</td><td>setosa</td></tr>\n",
       "\t<tr><td>4.8</td><td>3.4</td><td>1.9</td><td>0.2</td><td>setosa</td></tr>\n",
       "\t<tr><td>5.0</td><td>3.0</td><td>1.6</td><td>0.2</td><td>setosa</td></tr>\n",
       "\t<tr><td>5.0</td><td>3.4</td><td>1.6</td><td>0.4</td><td>setosa</td></tr>\n",
       "\t<tr><td>5.2</td><td>3.5</td><td>1.5</td><td>0.2</td><td>setosa</td></tr>\n",
       "\t<tr><td>5.2</td><td>3.4</td><td>1.4</td><td>0.2</td><td>setosa</td></tr>\n",
       "\t<tr><td>4.7</td><td>3.2</td><td>1.6</td><td>0.2</td><td>setosa</td></tr>\n",
       "\t<tr><td>...</td><td>...</td><td>...</td><td>...</td><td>...</td></tr>\n",
       "\t<tr><td>6.9</td><td>3.2</td><td>5.7</td><td>2.3</td><td>virginica</td></tr>\n",
       "\t<tr><td>5.6</td><td>2.8</td><td>4.9</td><td>2.0</td><td>virginica</td></tr>\n",
       "\t<tr><td>7.7</td><td>2.8</td><td>6.7</td><td>2.0</td><td>virginica</td></tr>\n",
       "\t<tr><td>6.3</td><td>2.7</td><td>4.9</td><td>1.8</td><td>virginica</td></tr>\n",
       "\t<tr><td>6.7</td><td>3.3</td><td>5.7</td><td>2.1</td><td>virginica</td></tr>\n",
       "\t<tr><td>7.2</td><td>3.2</td><td>6.0</td><td>1.8</td><td>virginica</td></tr>\n",
       "\t<tr><td>6.2</td><td>2.8</td><td>4.8</td><td>1.8</td><td>virginica</td></tr>\n",
       "\t<tr><td>6.1</td><td>3.0</td><td>4.9</td><td>1.8</td><td>virginica</td></tr>\n",
       "\t<tr><td>6.4</td><td>2.8</td><td>5.6</td><td>2.1</td><td>virginica</td></tr>\n",
       "\t<tr><td>7.2</td><td>3.0</td><td>5.8</td><td>1.6</td><td>virginica</td></tr>\n",
       "\t<tr><td>7.4</td><td>2.8</td><td>6.1</td><td>1.9</td><td>virginica</td></tr>\n",
       "\t<tr><td>7.9</td><td>3.8</td><td>6.4</td><td>2.0</td><td>virginica</td></tr>\n",
       "\t<tr><td>6.4</td><td>2.8</td><td>5.6</td><td>2.2</td><td>virginica</td></tr>\n",
       "\t<tr><td>6.3</td><td>2.8</td><td>5.1</td><td>1.5</td><td>virginica</td></tr>\n",
       "\t<tr><td>6.1</td><td>2.6</td><td>5.6</td><td>1.4</td><td>virginica</td></tr>\n",
       "\t<tr><td>7.7</td><td>3.0</td><td>6.1</td><td>2.3</td><td>virginica</td></tr>\n",
       "\t<tr><td>6.3</td><td>3.4</td><td>5.6</td><td>2.4</td><td>virginica</td></tr>\n",
       "\t<tr><td>6.4</td><td>3.1</td><td>5.5</td><td>1.8</td><td>virginica</td></tr>\n",
       "\t<tr><td>6.0</td><td>3.0</td><td>4.8</td><td>1.8</td><td>virginica</td></tr>\n",
       "\t<tr><td>6.9</td><td>3.1</td><td>5.4</td><td>2.1</td><td>virginica</td></tr>\n",
       "\t<tr><td>6.7</td><td>3.1</td><td>5.6</td><td>2.4</td><td>virginica</td></tr>\n",
       "\t<tr><td>6.9</td><td>3.1</td><td>5.1</td><td>2.3</td><td>virginica</td></tr>\n",
       "\t<tr><td>5.8</td><td>2.7</td><td>5.1</td><td>1.9</td><td>virginica</td></tr>\n",
       "\t<tr><td>6.8</td><td>3.2</td><td>5.9</td><td>2.3</td><td>virginica</td></tr>\n",
       "\t<tr><td>6.7</td><td>3.3</td><td>5.7</td><td>2.5</td><td>virginica</td></tr>\n",
       "\t<tr><td>6.7</td><td>3.0</td><td>5.2</td><td>2.3</td><td>virginica</td></tr>\n",
       "\t<tr><td>6.3</td><td>2.5</td><td>5.0</td><td>1.9</td><td>virginica</td></tr>\n",
       "\t<tr><td>6.5</td><td>3.0</td><td>5.2</td><td>2.0</td><td>virginica</td></tr>\n",
       "\t<tr><td>6.2</td><td>3.4</td><td>5.4</td><td>2.3</td><td>virginica</td></tr>\n",
       "\t<tr><td>5.9</td><td>3.0</td><td>5.1</td><td>1.8</td><td>virginica</td></tr>\n",
       "</tbody>\n",
       "</table>\n"
      ],
      "text/latex": [
       "A data.frame: 150 × 5\n",
       "\\begin{tabular}{lllll}\n",
       " Sepal.Length & Sepal.Width & Petal.Length & Petal.Width & Species\\\\\n",
       " <dbl> & <dbl> & <dbl> & <dbl> & <fct>\\\\\n",
       "\\hline\n",
       "\t 5.1 & 3.5 & 1.4 & 0.2 & setosa\\\\\n",
       "\t 4.9 & 3.0 & 1.4 & 0.2 & setosa\\\\\n",
       "\t 4.7 & 3.2 & 1.3 & 0.2 & setosa\\\\\n",
       "\t 4.6 & 3.1 & 1.5 & 0.2 & setosa\\\\\n",
       "\t 5.0 & 3.6 & 1.4 & 0.2 & setosa\\\\\n",
       "\t 5.4 & 3.9 & 1.7 & 0.4 & setosa\\\\\n",
       "\t 4.6 & 3.4 & 1.4 & 0.3 & setosa\\\\\n",
       "\t 5.0 & 3.4 & 1.5 & 0.2 & setosa\\\\\n",
       "\t 4.4 & 2.9 & 1.4 & 0.2 & setosa\\\\\n",
       "\t 4.9 & 3.1 & 1.5 & 0.1 & setosa\\\\\n",
       "\t 5.4 & 3.7 & 1.5 & 0.2 & setosa\\\\\n",
       "\t 4.8 & 3.4 & 1.6 & 0.2 & setosa\\\\\n",
       "\t 4.8 & 3.0 & 1.4 & 0.1 & setosa\\\\\n",
       "\t 4.3 & 3.0 & 1.1 & 0.1 & setosa\\\\\n",
       "\t 5.8 & 4.0 & 1.2 & 0.2 & setosa\\\\\n",
       "\t 5.7 & 4.4 & 1.5 & 0.4 & setosa\\\\\n",
       "\t 5.4 & 3.9 & 1.3 & 0.4 & setosa\\\\\n",
       "\t 5.1 & 3.5 & 1.4 & 0.3 & setosa\\\\\n",
       "\t 5.7 & 3.8 & 1.7 & 0.3 & setosa\\\\\n",
       "\t 5.1 & 3.8 & 1.5 & 0.3 & setosa\\\\\n",
       "\t 5.4 & 3.4 & 1.7 & 0.2 & setosa\\\\\n",
       "\t 5.1 & 3.7 & 1.5 & 0.4 & setosa\\\\\n",
       "\t 4.6 & 3.6 & 1.0 & 0.2 & setosa\\\\\n",
       "\t 5.1 & 3.3 & 1.7 & 0.5 & setosa\\\\\n",
       "\t 4.8 & 3.4 & 1.9 & 0.2 & setosa\\\\\n",
       "\t 5.0 & 3.0 & 1.6 & 0.2 & setosa\\\\\n",
       "\t 5.0 & 3.4 & 1.6 & 0.4 & setosa\\\\\n",
       "\t 5.2 & 3.5 & 1.5 & 0.2 & setosa\\\\\n",
       "\t 5.2 & 3.4 & 1.4 & 0.2 & setosa\\\\\n",
       "\t 4.7 & 3.2 & 1.6 & 0.2 & setosa\\\\\n",
       "\t ... & ... & ... & ... & ...\\\\\n",
       "\t 6.9 & 3.2 & 5.7 & 2.3 & virginica\\\\\n",
       "\t 5.6 & 2.8 & 4.9 & 2.0 & virginica\\\\\n",
       "\t 7.7 & 2.8 & 6.7 & 2.0 & virginica\\\\\n",
       "\t 6.3 & 2.7 & 4.9 & 1.8 & virginica\\\\\n",
       "\t 6.7 & 3.3 & 5.7 & 2.1 & virginica\\\\\n",
       "\t 7.2 & 3.2 & 6.0 & 1.8 & virginica\\\\\n",
       "\t 6.2 & 2.8 & 4.8 & 1.8 & virginica\\\\\n",
       "\t 6.1 & 3.0 & 4.9 & 1.8 & virginica\\\\\n",
       "\t 6.4 & 2.8 & 5.6 & 2.1 & virginica\\\\\n",
       "\t 7.2 & 3.0 & 5.8 & 1.6 & virginica\\\\\n",
       "\t 7.4 & 2.8 & 6.1 & 1.9 & virginica\\\\\n",
       "\t 7.9 & 3.8 & 6.4 & 2.0 & virginica\\\\\n",
       "\t 6.4 & 2.8 & 5.6 & 2.2 & virginica\\\\\n",
       "\t 6.3 & 2.8 & 5.1 & 1.5 & virginica\\\\\n",
       "\t 6.1 & 2.6 & 5.6 & 1.4 & virginica\\\\\n",
       "\t 7.7 & 3.0 & 6.1 & 2.3 & virginica\\\\\n",
       "\t 6.3 & 3.4 & 5.6 & 2.4 & virginica\\\\\n",
       "\t 6.4 & 3.1 & 5.5 & 1.8 & virginica\\\\\n",
       "\t 6.0 & 3.0 & 4.8 & 1.8 & virginica\\\\\n",
       "\t 6.9 & 3.1 & 5.4 & 2.1 & virginica\\\\\n",
       "\t 6.7 & 3.1 & 5.6 & 2.4 & virginica\\\\\n",
       "\t 6.9 & 3.1 & 5.1 & 2.3 & virginica\\\\\n",
       "\t 5.8 & 2.7 & 5.1 & 1.9 & virginica\\\\\n",
       "\t 6.8 & 3.2 & 5.9 & 2.3 & virginica\\\\\n",
       "\t 6.7 & 3.3 & 5.7 & 2.5 & virginica\\\\\n",
       "\t 6.7 & 3.0 & 5.2 & 2.3 & virginica\\\\\n",
       "\t 6.3 & 2.5 & 5.0 & 1.9 & virginica\\\\\n",
       "\t 6.5 & 3.0 & 5.2 & 2.0 & virginica\\\\\n",
       "\t 6.2 & 3.4 & 5.4 & 2.3 & virginica\\\\\n",
       "\t 5.9 & 3.0 & 5.1 & 1.8 & virginica\\\\\n",
       "\\end{tabular}\n"
      ],
      "text/markdown": [
       "\n",
       "A data.frame: 150 × 5\n",
       "\n",
       "| Sepal.Length &lt;dbl&gt; | Sepal.Width &lt;dbl&gt; | Petal.Length &lt;dbl&gt; | Petal.Width &lt;dbl&gt; | Species &lt;fct&gt; |\n",
       "|---|---|---|---|---|\n",
       "| 5.1 | 3.5 | 1.4 | 0.2 | setosa |\n",
       "| 4.9 | 3.0 | 1.4 | 0.2 | setosa |\n",
       "| 4.7 | 3.2 | 1.3 | 0.2 | setosa |\n",
       "| 4.6 | 3.1 | 1.5 | 0.2 | setosa |\n",
       "| 5.0 | 3.6 | 1.4 | 0.2 | setosa |\n",
       "| 5.4 | 3.9 | 1.7 | 0.4 | setosa |\n",
       "| 4.6 | 3.4 | 1.4 | 0.3 | setosa |\n",
       "| 5.0 | 3.4 | 1.5 | 0.2 | setosa |\n",
       "| 4.4 | 2.9 | 1.4 | 0.2 | setosa |\n",
       "| 4.9 | 3.1 | 1.5 | 0.1 | setosa |\n",
       "| 5.4 | 3.7 | 1.5 | 0.2 | setosa |\n",
       "| 4.8 | 3.4 | 1.6 | 0.2 | setosa |\n",
       "| 4.8 | 3.0 | 1.4 | 0.1 | setosa |\n",
       "| 4.3 | 3.0 | 1.1 | 0.1 | setosa |\n",
       "| 5.8 | 4.0 | 1.2 | 0.2 | setosa |\n",
       "| 5.7 | 4.4 | 1.5 | 0.4 | setosa |\n",
       "| 5.4 | 3.9 | 1.3 | 0.4 | setosa |\n",
       "| 5.1 | 3.5 | 1.4 | 0.3 | setosa |\n",
       "| 5.7 | 3.8 | 1.7 | 0.3 | setosa |\n",
       "| 5.1 | 3.8 | 1.5 | 0.3 | setosa |\n",
       "| 5.4 | 3.4 | 1.7 | 0.2 | setosa |\n",
       "| 5.1 | 3.7 | 1.5 | 0.4 | setosa |\n",
       "| 4.6 | 3.6 | 1.0 | 0.2 | setosa |\n",
       "| 5.1 | 3.3 | 1.7 | 0.5 | setosa |\n",
       "| 4.8 | 3.4 | 1.9 | 0.2 | setosa |\n",
       "| 5.0 | 3.0 | 1.6 | 0.2 | setosa |\n",
       "| 5.0 | 3.4 | 1.6 | 0.4 | setosa |\n",
       "| 5.2 | 3.5 | 1.5 | 0.2 | setosa |\n",
       "| 5.2 | 3.4 | 1.4 | 0.2 | setosa |\n",
       "| 4.7 | 3.2 | 1.6 | 0.2 | setosa |\n",
       "| ... | ... | ... | ... | ... |\n",
       "| 6.9 | 3.2 | 5.7 | 2.3 | virginica |\n",
       "| 5.6 | 2.8 | 4.9 | 2.0 | virginica |\n",
       "| 7.7 | 2.8 | 6.7 | 2.0 | virginica |\n",
       "| 6.3 | 2.7 | 4.9 | 1.8 | virginica |\n",
       "| 6.7 | 3.3 | 5.7 | 2.1 | virginica |\n",
       "| 7.2 | 3.2 | 6.0 | 1.8 | virginica |\n",
       "| 6.2 | 2.8 | 4.8 | 1.8 | virginica |\n",
       "| 6.1 | 3.0 | 4.9 | 1.8 | virginica |\n",
       "| 6.4 | 2.8 | 5.6 | 2.1 | virginica |\n",
       "| 7.2 | 3.0 | 5.8 | 1.6 | virginica |\n",
       "| 7.4 | 2.8 | 6.1 | 1.9 | virginica |\n",
       "| 7.9 | 3.8 | 6.4 | 2.0 | virginica |\n",
       "| 6.4 | 2.8 | 5.6 | 2.2 | virginica |\n",
       "| 6.3 | 2.8 | 5.1 | 1.5 | virginica |\n",
       "| 6.1 | 2.6 | 5.6 | 1.4 | virginica |\n",
       "| 7.7 | 3.0 | 6.1 | 2.3 | virginica |\n",
       "| 6.3 | 3.4 | 5.6 | 2.4 | virginica |\n",
       "| 6.4 | 3.1 | 5.5 | 1.8 | virginica |\n",
       "| 6.0 | 3.0 | 4.8 | 1.8 | virginica |\n",
       "| 6.9 | 3.1 | 5.4 | 2.1 | virginica |\n",
       "| 6.7 | 3.1 | 5.6 | 2.4 | virginica |\n",
       "| 6.9 | 3.1 | 5.1 | 2.3 | virginica |\n",
       "| 5.8 | 2.7 | 5.1 | 1.9 | virginica |\n",
       "| 6.8 | 3.2 | 5.9 | 2.3 | virginica |\n",
       "| 6.7 | 3.3 | 5.7 | 2.5 | virginica |\n",
       "| 6.7 | 3.0 | 5.2 | 2.3 | virginica |\n",
       "| 6.3 | 2.5 | 5.0 | 1.9 | virginica |\n",
       "| 6.5 | 3.0 | 5.2 | 2.0 | virginica |\n",
       "| 6.2 | 3.4 | 5.4 | 2.3 | virginica |\n",
       "| 5.9 | 3.0 | 5.1 | 1.8 | virginica |\n",
       "\n"
      ],
      "text/plain": [
       "    Sepal.Length Sepal.Width Petal.Length Petal.Width Species  \n",
       "1   5.1          3.5         1.4          0.2         setosa   \n",
       "2   4.9          3.0         1.4          0.2         setosa   \n",
       "3   4.7          3.2         1.3          0.2         setosa   \n",
       "4   4.6          3.1         1.5          0.2         setosa   \n",
       "5   5.0          3.6         1.4          0.2         setosa   \n",
       "6   5.4          3.9         1.7          0.4         setosa   \n",
       "7   4.6          3.4         1.4          0.3         setosa   \n",
       "8   5.0          3.4         1.5          0.2         setosa   \n",
       "9   4.4          2.9         1.4          0.2         setosa   \n",
       "10  4.9          3.1         1.5          0.1         setosa   \n",
       "11  5.4          3.7         1.5          0.2         setosa   \n",
       "12  4.8          3.4         1.6          0.2         setosa   \n",
       "13  4.8          3.0         1.4          0.1         setosa   \n",
       "14  4.3          3.0         1.1          0.1         setosa   \n",
       "15  5.8          4.0         1.2          0.2         setosa   \n",
       "16  5.7          4.4         1.5          0.4         setosa   \n",
       "17  5.4          3.9         1.3          0.4         setosa   \n",
       "18  5.1          3.5         1.4          0.3         setosa   \n",
       "19  5.7          3.8         1.7          0.3         setosa   \n",
       "20  5.1          3.8         1.5          0.3         setosa   \n",
       "21  5.4          3.4         1.7          0.2         setosa   \n",
       "22  5.1          3.7         1.5          0.4         setosa   \n",
       "23  4.6          3.6         1.0          0.2         setosa   \n",
       "24  5.1          3.3         1.7          0.5         setosa   \n",
       "25  4.8          3.4         1.9          0.2         setosa   \n",
       "26  5.0          3.0         1.6          0.2         setosa   \n",
       "27  5.0          3.4         1.6          0.4         setosa   \n",
       "28  5.2          3.5         1.5          0.2         setosa   \n",
       "29  5.2          3.4         1.4          0.2         setosa   \n",
       "30  4.7          3.2         1.6          0.2         setosa   \n",
       "... ...          ...         ...          ...         ...      \n",
       "121 6.9          3.2         5.7          2.3         virginica\n",
       "122 5.6          2.8         4.9          2.0         virginica\n",
       "123 7.7          2.8         6.7          2.0         virginica\n",
       "124 6.3          2.7         4.9          1.8         virginica\n",
       "125 6.7          3.3         5.7          2.1         virginica\n",
       "126 7.2          3.2         6.0          1.8         virginica\n",
       "127 6.2          2.8         4.8          1.8         virginica\n",
       "128 6.1          3.0         4.9          1.8         virginica\n",
       "129 6.4          2.8         5.6          2.1         virginica\n",
       "130 7.2          3.0         5.8          1.6         virginica\n",
       "131 7.4          2.8         6.1          1.9         virginica\n",
       "132 7.9          3.8         6.4          2.0         virginica\n",
       "133 6.4          2.8         5.6          2.2         virginica\n",
       "134 6.3          2.8         5.1          1.5         virginica\n",
       "135 6.1          2.6         5.6          1.4         virginica\n",
       "136 7.7          3.0         6.1          2.3         virginica\n",
       "137 6.3          3.4         5.6          2.4         virginica\n",
       "138 6.4          3.1         5.5          1.8         virginica\n",
       "139 6.0          3.0         4.8          1.8         virginica\n",
       "140 6.9          3.1         5.4          2.1         virginica\n",
       "141 6.7          3.1         5.6          2.4         virginica\n",
       "142 6.9          3.1         5.1          2.3         virginica\n",
       "143 5.8          2.7         5.1          1.9         virginica\n",
       "144 6.8          3.2         5.9          2.3         virginica\n",
       "145 6.7          3.3         5.7          2.5         virginica\n",
       "146 6.7          3.0         5.2          2.3         virginica\n",
       "147 6.3          2.5         5.0          1.9         virginica\n",
       "148 6.5          3.0         5.2          2.0         virginica\n",
       "149 6.2          3.4         5.4          2.3         virginica\n",
       "150 5.9          3.0         5.1          1.8         virginica"
      ]
     },
     "metadata": {},
     "output_type": "display_data"
    }
   ],
   "source": [
    "iris"
   ]
  },
  {
   "cell_type": "code",
   "execution_count": 132,
   "metadata": {},
   "outputs": [
    {
     "data": {
      "image/png": "[encoded data removed]",
      "text/plain": [
       "Plot with title \"꽃잎 폭\""
      ]
     },
     "metadata": {
      "image/png": {
       "height": 420,
       "width": 420
      }
     },
     "output_type": "display_data"
    }
   ],
   "source": [
    "par(mfrow=c(2,2));\n",
    "hist(iris[[1]],ylab='도수',xlab='꽃받침 길이',main='꽃받침 길이');\n",
    "hist(iris[[2]],ylab='도수',xlab='꽃받침 폭',main='꽃받침 폭');\n",
    "hist(iris[[3]],ylab='도수',xlab='꽃잎 길이',main='꽃잎 길이');\n",
    "hist(iris[[4]],ylab='도수',xlab='꽃잎 폭',main='꽃잎 폭');"
   ]
  },
  {
   "cell_type": "markdown",
   "metadata": {},
   "source": [
    "##  #4. [과제5] 상자그림"
   ]
  },
  {
   "cell_type": "code",
   "execution_count": 203,
   "metadata": {},
   "outputs": [],
   "source": [
    "d2=read.csv('res2.csv',header=F)\n",
    "colnames(d2)=c('1열','2열','3열','4열','5열','6열','7열','8열','9열','10열')\n",
    "d2m=as.matrix(d2);"
   ]
  },
  {
   "cell_type": "code",
   "execution_count": 204,
   "metadata": {
    "scrolled": false
   },
   "outputs": [
    {
     "data": {
      "image/png": "[encoded data removed]",
      "text/plain": [
       "Plot with title \"저항\""
      ]
     },
     "metadata": {
      "image/png": {
       "height": 420,
       "width": 420
      }
     },
     "output_type": "display_data"
    }
   ],
   "source": [
    "boxplot(d2m,horizontal=F,main='저항',col='skyblue',ylab='값')"
   ]
  },
  {
   "cell_type": "code",
   "execution_count": 185,
   "metadata": {},
   "outputs": [
    {
     "data": {
      "text/html": [
       "<table>\n",
       "<caption>A matrix: 10 × 10 of type dbl</caption>\n",
       "<thead>\n",
       "\t<tr><th scope=col>V1</th><th scope=col>V2</th><th scope=col>V3</th><th scope=col>V4</th><th scope=col>V5</th><th scope=col>V6</th><th scope=col>V7</th><th scope=col>V8</th><th scope=col>V9</th><th scope=col>V10</th></tr>\n",
       "</thead>\n",
       "<tbody>\n",
       "\t<tr><td>4.91</td><td>5.03</td><td>5.07</td><td>5.21</td><td>4.74</td><td>5.03</td><td>5.08</td><td>4.95</td><td>4.89</td><td>4.65</td></tr>\n",
       "\t<tr><td>4.79</td><td>5.01</td><td>4.77</td><td>4.95</td><td>4.59</td><td>5.07</td><td>4.97</td><td>5.19</td><td>5.05</td><td>5.27</td></tr>\n",
       "\t<tr><td>4.77</td><td>4.76</td><td>5.11</td><td>5.17</td><td>4.94</td><td>4.69</td><td>5.01</td><td>5.11</td><td>4.75</td><td>5.05</td></tr>\n",
       "\t<tr><td>5.01</td><td>4.93</td><td>5.01</td><td>5.08</td><td>4.69</td><td>4.89</td><td>5.23</td><td>4.99</td><td>5.14</td><td>4.95</td></tr>\n",
       "\t<tr><td>4.91</td><td>4.81</td><td>4.99</td><td>4.89</td><td>4.79</td><td>4.74</td><td>5.09</td><td>5.07</td><td>5.25</td><td>5.28</td></tr>\n",
       "\t<tr><td>4.87</td><td>4.88</td><td>4.87</td><td>4.75</td><td>4.99</td><td>4.59</td><td>5.07</td><td>4.99</td><td>4.99</td><td>5.07</td></tr>\n",
       "\t<tr><td>4.94</td><td>5.29</td><td>4.97</td><td>4.99</td><td>4.95</td><td>4.65</td><td>4.77</td><td>4.83</td><td>4.95</td><td>5.05</td></tr>\n",
       "\t<tr><td>5.02</td><td>4.97</td><td>5.07</td><td>4.89</td><td>4.77</td><td>4.88</td><td>5.08</td><td>4.78</td><td>5.23</td><td>5.18</td></tr>\n",
       "\t<tr><td>4.66</td><td>4.95</td><td>5.19</td><td>4.84</td><td>4.93</td><td>4.98</td><td>5.08</td><td>4.85</td><td>5.04</td><td>4.89</td></tr>\n",
       "\t<tr><td>4.79</td><td>5.09</td><td>4.98</td><td>4.94</td><td>5.17</td><td>4.88</td><td>4.96</td><td>4.92</td><td>4.79</td><td>5.10</td></tr>\n",
       "</tbody>\n",
       "</table>\n"
      ],
      "text/latex": [
       "A matrix: 10 × 10 of type dbl\n",
       "\\begin{tabular}{llllllllll}\n",
       " V1 & V2 & V3 & V4 & V5 & V6 & V7 & V8 & V9 & V10\\\\\n",
       "\\hline\n",
       "\t 4.91 & 5.03 & 5.07 & 5.21 & 4.74 & 5.03 & 5.08 & 4.95 & 4.89 & 4.65\\\\\n",
       "\t 4.79 & 5.01 & 4.77 & 4.95 & 4.59 & 5.07 & 4.97 & 5.19 & 5.05 & 5.27\\\\\n",
       "\t 4.77 & 4.76 & 5.11 & 5.17 & 4.94 & 4.69 & 5.01 & 5.11 & 4.75 & 5.05\\\\\n",
       "\t 5.01 & 4.93 & 5.01 & 5.08 & 4.69 & 4.89 & 5.23 & 4.99 & 5.14 & 4.95\\\\\n",
       "\t 4.91 & 4.81 & 4.99 & 4.89 & 4.79 & 4.74 & 5.09 & 5.07 & 5.25 & 5.28\\\\\n",
       "\t 4.87 & 4.88 & 4.87 & 4.75 & 4.99 & 4.59 & 5.07 & 4.99 & 4.99 & 5.07\\\\\n",
       "\t 4.94 & 5.29 & 4.97 & 4.99 & 4.95 & 4.65 & 4.77 & 4.83 & 4.95 & 5.05\\\\\n",
       "\t 5.02 & 4.97 & 5.07 & 4.89 & 4.77 & 4.88 & 5.08 & 4.78 & 5.23 & 5.18\\\\\n",
       "\t 4.66 & 4.95 & 5.19 & 4.84 & 4.93 & 4.98 & 5.08 & 4.85 & 5.04 & 4.89\\\\\n",
       "\t 4.79 & 5.09 & 4.98 & 4.94 & 5.17 & 4.88 & 4.96 & 4.92 & 4.79 & 5.10\\\\\n",
       "\\end{tabular}\n"
      ],
      "text/markdown": [
       "\n",
       "A matrix: 10 × 10 of type dbl\n",
       "\n",
       "| V1 | V2 | V3 | V4 | V5 | V6 | V7 | V8 | V9 | V10 |\n",
       "|---|---|---|---|---|---|---|---|---|---|\n",
       "| 4.91 | 5.03 | 5.07 | 5.21 | 4.74 | 5.03 | 5.08 | 4.95 | 4.89 | 4.65 |\n",
       "| 4.79 | 5.01 | 4.77 | 4.95 | 4.59 | 5.07 | 4.97 | 5.19 | 5.05 | 5.27 |\n",
       "| 4.77 | 4.76 | 5.11 | 5.17 | 4.94 | 4.69 | 5.01 | 5.11 | 4.75 | 5.05 |\n",
       "| 5.01 | 4.93 | 5.01 | 5.08 | 4.69 | 4.89 | 5.23 | 4.99 | 5.14 | 4.95 |\n",
       "| 4.91 | 4.81 | 4.99 | 4.89 | 4.79 | 4.74 | 5.09 | 5.07 | 5.25 | 5.28 |\n",
       "| 4.87 | 4.88 | 4.87 | 4.75 | 4.99 | 4.59 | 5.07 | 4.99 | 4.99 | 5.07 |\n",
       "| 4.94 | 5.29 | 4.97 | 4.99 | 4.95 | 4.65 | 4.77 | 4.83 | 4.95 | 5.05 |\n",
       "| 5.02 | 4.97 | 5.07 | 4.89 | 4.77 | 4.88 | 5.08 | 4.78 | 5.23 | 5.18 |\n",
       "| 4.66 | 4.95 | 5.19 | 4.84 | 4.93 | 4.98 | 5.08 | 4.85 | 5.04 | 4.89 |\n",
       "| 4.79 | 5.09 | 4.98 | 4.94 | 5.17 | 4.88 | 4.96 | 4.92 | 4.79 | 5.10 |\n",
       "\n"
      ],
      "text/plain": [
       "      V1   V2   V3   V4   V5   V6   V7   V8   V9   V10 \n",
       " [1,] 4.91 5.03 5.07 5.21 4.74 5.03 5.08 4.95 4.89 4.65\n",
       " [2,] 4.79 5.01 4.77 4.95 4.59 5.07 4.97 5.19 5.05 5.27\n",
       " [3,] 4.77 4.76 5.11 5.17 4.94 4.69 5.01 5.11 4.75 5.05\n",
       " [4,] 5.01 4.93 5.01 5.08 4.69 4.89 5.23 4.99 5.14 4.95\n",
       " [5,] 4.91 4.81 4.99 4.89 4.79 4.74 5.09 5.07 5.25 5.28\n",
       " [6,] 4.87 4.88 4.87 4.75 4.99 4.59 5.07 4.99 4.99 5.07\n",
       " [7,] 4.94 5.29 4.97 4.99 4.95 4.65 4.77 4.83 4.95 5.05\n",
       " [8,] 5.02 4.97 5.07 4.89 4.77 4.88 5.08 4.78 5.23 5.18\n",
       " [9,] 4.66 4.95 5.19 4.84 4.93 4.98 5.08 4.85 5.04 4.89\n",
       "[10,] 4.79 5.09 4.98 4.94 5.17 4.88 4.96 4.92 4.79 5.10"
      ]
     },
     "metadata": {},
     "output_type": "display_data"
    },
    {
     "data": {
      "text/html": [
       "<table>\n",
       "<caption>A data.frame: 10 × 10</caption>\n",
       "<thead>\n",
       "\t<tr><th scope=col>V1</th><th scope=col>V2</th><th scope=col>V3</th><th scope=col>V4</th><th scope=col>V5</th><th scope=col>V6</th><th scope=col>V7</th><th scope=col>V8</th><th scope=col>V9</th><th scope=col>V10</th></tr>\n",
       "\t<tr><th scope=col>&lt;dbl&gt;</th><th scope=col>&lt;dbl&gt;</th><th scope=col>&lt;dbl&gt;</th><th scope=col>&lt;dbl&gt;</th><th scope=col>&lt;dbl&gt;</th><th scope=col>&lt;dbl&gt;</th><th scope=col>&lt;dbl&gt;</th><th scope=col>&lt;dbl&gt;</th><th scope=col>&lt;dbl&gt;</th><th scope=col>&lt;dbl&gt;</th></tr>\n",
       "</thead>\n",
       "<tbody>\n",
       "\t<tr><td>4.91</td><td>5.03</td><td>5.07</td><td>5.21</td><td>4.74</td><td>5.03</td><td>5.08</td><td>4.95</td><td>4.89</td><td>4.65</td></tr>\n",
       "\t<tr><td>4.79</td><td>5.01</td><td>4.77</td><td>4.95</td><td>4.59</td><td>5.07</td><td>4.97</td><td>5.19</td><td>5.05</td><td>5.27</td></tr>\n",
       "\t<tr><td>4.77</td><td>4.76</td><td>5.11</td><td>5.17</td><td>4.94</td><td>4.69</td><td>5.01</td><td>5.11</td><td>4.75</td><td>5.05</td></tr>\n",
       "\t<tr><td>5.01</td><td>4.93</td><td>5.01</td><td>5.08</td><td>4.69</td><td>4.89</td><td>5.23</td><td>4.99</td><td>5.14</td><td>4.95</td></tr>\n",
       "\t<tr><td>4.91</td><td>4.81</td><td>4.99</td><td>4.89</td><td>4.79</td><td>4.74</td><td>5.09</td><td>5.07</td><td>5.25</td><td>5.28</td></tr>\n",
       "\t<tr><td>4.87</td><td>4.88</td><td>4.87</td><td>4.75</td><td>4.99</td><td>4.59</td><td>5.07</td><td>4.99</td><td>4.99</td><td>5.07</td></tr>\n",
       "\t<tr><td>4.94</td><td>5.29</td><td>4.97</td><td>4.99</td><td>4.95</td><td>4.65</td><td>4.77</td><td>4.83</td><td>4.95</td><td>5.05</td></tr>\n",
       "\t<tr><td>5.02</td><td>4.97</td><td>5.07</td><td>4.89</td><td>4.77</td><td>4.88</td><td>5.08</td><td>4.78</td><td>5.23</td><td>5.18</td></tr>\n",
       "\t<tr><td>4.66</td><td>4.95</td><td>5.19</td><td>4.84</td><td>4.93</td><td>4.98</td><td>5.08</td><td>4.85</td><td>5.04</td><td>4.89</td></tr>\n",
       "\t<tr><td>4.79</td><td>5.09</td><td>4.98</td><td>4.94</td><td>5.17</td><td>4.88</td><td>4.96</td><td>4.92</td><td>4.79</td><td>5.10</td></tr>\n",
       "</tbody>\n",
       "</table>\n"
      ],
      "text/latex": [
       "A data.frame: 10 × 10\n",
       "\\begin{tabular}{llllllllll}\n",
       " V1 & V2 & V3 & V4 & V5 & V6 & V7 & V8 & V9 & V10\\\\\n",
       " <dbl> & <dbl> & <dbl> & <dbl> & <dbl> & <dbl> & <dbl> & <dbl> & <dbl> & <dbl>\\\\\n",
       "\\hline\n",
       "\t 4.91 & 5.03 & 5.07 & 5.21 & 4.74 & 5.03 & 5.08 & 4.95 & 4.89 & 4.65\\\\\n",
       "\t 4.79 & 5.01 & 4.77 & 4.95 & 4.59 & 5.07 & 4.97 & 5.19 & 5.05 & 5.27\\\\\n",
       "\t 4.77 & 4.76 & 5.11 & 5.17 & 4.94 & 4.69 & 5.01 & 5.11 & 4.75 & 5.05\\\\\n",
       "\t 5.01 & 4.93 & 5.01 & 5.08 & 4.69 & 4.89 & 5.23 & 4.99 & 5.14 & 4.95\\\\\n",
       "\t 4.91 & 4.81 & 4.99 & 4.89 & 4.79 & 4.74 & 5.09 & 5.07 & 5.25 & 5.28\\\\\n",
       "\t 4.87 & 4.88 & 4.87 & 4.75 & 4.99 & 4.59 & 5.07 & 4.99 & 4.99 & 5.07\\\\\n",
       "\t 4.94 & 5.29 & 4.97 & 4.99 & 4.95 & 4.65 & 4.77 & 4.83 & 4.95 & 5.05\\\\\n",
       "\t 5.02 & 4.97 & 5.07 & 4.89 & 4.77 & 4.88 & 5.08 & 4.78 & 5.23 & 5.18\\\\\n",
       "\t 4.66 & 4.95 & 5.19 & 4.84 & 4.93 & 4.98 & 5.08 & 4.85 & 5.04 & 4.89\\\\\n",
       "\t 4.79 & 5.09 & 4.98 & 4.94 & 5.17 & 4.88 & 4.96 & 4.92 & 4.79 & 5.10\\\\\n",
       "\\end{tabular}\n"
      ],
      "text/markdown": [
       "\n",
       "A data.frame: 10 × 10\n",
       "\n",
       "| V1 &lt;dbl&gt; | V2 &lt;dbl&gt; | V3 &lt;dbl&gt; | V4 &lt;dbl&gt; | V5 &lt;dbl&gt; | V6 &lt;dbl&gt; | V7 &lt;dbl&gt; | V8 &lt;dbl&gt; | V9 &lt;dbl&gt; | V10 &lt;dbl&gt; |\n",
       "|---|---|---|---|---|---|---|---|---|---|\n",
       "| 4.91 | 5.03 | 5.07 | 5.21 | 4.74 | 5.03 | 5.08 | 4.95 | 4.89 | 4.65 |\n",
       "| 4.79 | 5.01 | 4.77 | 4.95 | 4.59 | 5.07 | 4.97 | 5.19 | 5.05 | 5.27 |\n",
       "| 4.77 | 4.76 | 5.11 | 5.17 | 4.94 | 4.69 | 5.01 | 5.11 | 4.75 | 5.05 |\n",
       "| 5.01 | 4.93 | 5.01 | 5.08 | 4.69 | 4.89 | 5.23 | 4.99 | 5.14 | 4.95 |\n",
       "| 4.91 | 4.81 | 4.99 | 4.89 | 4.79 | 4.74 | 5.09 | 5.07 | 5.25 | 5.28 |\n",
       "| 4.87 | 4.88 | 4.87 | 4.75 | 4.99 | 4.59 | 5.07 | 4.99 | 4.99 | 5.07 |\n",
       "| 4.94 | 5.29 | 4.97 | 4.99 | 4.95 | 4.65 | 4.77 | 4.83 | 4.95 | 5.05 |\n",
       "| 5.02 | 4.97 | 5.07 | 4.89 | 4.77 | 4.88 | 5.08 | 4.78 | 5.23 | 5.18 |\n",
       "| 4.66 | 4.95 | 5.19 | 4.84 | 4.93 | 4.98 | 5.08 | 4.85 | 5.04 | 4.89 |\n",
       "| 4.79 | 5.09 | 4.98 | 4.94 | 5.17 | 4.88 | 4.96 | 4.92 | 4.79 | 5.10 |\n",
       "\n"
      ],
      "text/plain": [
       "   V1   V2   V3   V4   V5   V6   V7   V8   V9   V10 \n",
       "1  4.91 5.03 5.07 5.21 4.74 5.03 5.08 4.95 4.89 4.65\n",
       "2  4.79 5.01 4.77 4.95 4.59 5.07 4.97 5.19 5.05 5.27\n",
       "3  4.77 4.76 5.11 5.17 4.94 4.69 5.01 5.11 4.75 5.05\n",
       "4  5.01 4.93 5.01 5.08 4.69 4.89 5.23 4.99 5.14 4.95\n",
       "5  4.91 4.81 4.99 4.89 4.79 4.74 5.09 5.07 5.25 5.28\n",
       "6  4.87 4.88 4.87 4.75 4.99 4.59 5.07 4.99 4.99 5.07\n",
       "7  4.94 5.29 4.97 4.99 4.95 4.65 4.77 4.83 4.95 5.05\n",
       "8  5.02 4.97 5.07 4.89 4.77 4.88 5.08 4.78 5.23 5.18\n",
       "9  4.66 4.95 5.19 4.84 4.93 4.98 5.08 4.85 5.04 4.89\n",
       "10 4.79 5.09 4.98 4.94 5.17 4.88 4.96 4.92 4.79 5.10"
      ]
     },
     "metadata": {},
     "output_type": "display_data"
    }
   ],
   "source": [
    "\n",
    "d2"
   ]
  }
 ],
 "metadata": {
  "kernelspec": {
   "display_name": "R",
   "language": "R",
   "name": "ir"
  },
  "language_info": {
   "codemirror_mode": "r",
   "file_extension": ".r",
   "mimetype": "text/x-r-source",
   "name": "R",
   "pygments_lexer": "r",
   "version": "4.0.2"
  }
 },
 "nbformat": 4,
 "nbformat_minor": 4
}
