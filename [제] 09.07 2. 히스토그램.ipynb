{
 "cells": [
  {
   "cell_type": "code",
   "execution_count": 44,
   "metadata": {
    "collapsed": true
   },
   "outputs": [
    {
     "data": {
      "text/html": [
       "549"
      ],
      "text/latex": [
       "549"
      ],
      "text/markdown": [
       "549"
      ],
      "text/plain": [
       "[1] 549"
      ]
     },
     "metadata": {},
     "output_type": "display_data"
    },
    {
     "data": {
      "text/html": [
       "<style>\n",
       ".list-inline {list-style: none; margin:0; padding: 0}\n",
       ".list-inline>li {display: inline-block}\n",
       ".list-inline>li:not(:last-child)::after {content: \"\\00b7\"; padding: 0 .5ex}\n",
       "</style>\n",
       "<ol class=list-inline><li>100</li><li>160</li><li>220</li><li>280</li><li>340</li><li>400</li><li>460</li><li>520</li><li>580</li></ol>\n"
      ],
      "text/latex": [
       "\\begin{enumerate*}\n",
       "\\item 100\n",
       "\\item 160\n",
       "\\item 220\n",
       "\\item 280\n",
       "\\item 340\n",
       "\\item 400\n",
       "\\item 460\n",
       "\\item 520\n",
       "\\item 580\n",
       "\\end{enumerate*}\n"
      ],
      "text/markdown": [
       "1. 100\n",
       "2. 160\n",
       "3. 220\n",
       "4. 280\n",
       "5. 340\n",
       "6. 400\n",
       "7. 460\n",
       "8. 520\n",
       "9. 580\n",
       "\n",
       "\n"
      ],
      "text/plain": [
       "[1] 100 160 220 280 340 400 460 520 580"
      ]
     },
     "metadata": {},
     "output_type": "display_data"
    },
    {
     "data": {
      "image/png": "[encoded data removed]",
      "text/plain": [
       "Plot with title \"농협 직원의 월평균임금\""
      ]
     },
     "metadata": {
      "image/png": {
       "height": 420,
       "width": 420
      }
     },
     "output_type": "display_data"
    }
   ],
   "source": [
    "#실습5 히스토그램\n",
    "#데이터명 sall.csv\n",
    "data5=read.csv('sal1.csv',header=T);\n",
    "x=data5$월평균임금;\n",
    "\n",
    "max(x)\n",
    "breaks=seq(from=100, by=60, length.out=9)#length.out: 몇 개로 나눌거냐. \n",
    "breaks\n",
    "hist(x,breaks=breaks,right=F, main='농협 직원의 월평균임금',xlab='임금',ylab='도수',xlim=c(100,600),col='#f37726');"
   ]
  },
  {
   "cell_type": "code",
   "execution_count": 41,
   "metadata": {},
   "outputs": [],
   "source": [
    "?col"
   ]
  }
 ],
 "metadata": {
  "kernelspec": {
   "display_name": "R",
   "language": "R",
   "name": "ir"
  },
  "language_info": {
   "codemirror_mode": "r",
   "file_extension": ".r",
   "mimetype": "text/x-r-source",
   "name": "R",
   "pygments_lexer": "r",
   "version": "4.0.2"
  }
 },
 "nbformat": 4,
 "nbformat_minor": 4
}
