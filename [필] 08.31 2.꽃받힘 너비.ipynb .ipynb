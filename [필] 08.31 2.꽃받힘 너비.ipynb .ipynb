{
 "cells": [
  {
   "cell_type": "code",
   "execution_count": 25,
   "metadata": {
    "collapsed": true
   },
   "outputs": [
    {
     "data": {
      "text/html": [
       "4.4"
      ],
      "text/latex": [
       "4.4"
      ],
      "text/markdown": [
       "4.4"
      ],
      "text/plain": [
       "[1] 4.4"
      ]
     },
     "metadata": {},
     "output_type": "display_data"
    },
    {
     "data": {
      "text/html": [
       "2"
      ],
      "text/latex": [
       "2"
      ],
      "text/markdown": [
       "2"
      ],
      "text/plain": [
       "[1] 2"
      ]
     },
     "metadata": {},
     "output_type": "display_data"
    },
    {
     "data": {
      "image/png": "[encoded data removed]",
      "text/plain": [
       "Plot with title \"Histogram of x\""
      ]
     },
     "metadata": {
      "image/png": {
       "height": 420,
       "width": 420
      }
     },
     "output_type": "display_data"
    }
   ],
   "source": [
    "#iris\n",
    " \n",
    "#iris[2]; iris[[2]] #[[2]]하면 값만 나옴. [2]하면 그 열이 다 나옴\n",
    "x<-iris[[2]]\n",
    "max(x);min(x);#최대와 최소.\n",
    "n<-length(x);\n",
    "xh<-hist(x,breaks=seq(min(x),max(x),by=0.2),right=F)"
   ]
  },
  {
   "cell_type": "code",
   "execution_count": 42,
   "metadata": {
    "collapsed": true
   },
   "outputs": [
    {
     "data": {
      "text/html": [
       "<style>\n",
       ".list-inline {list-style: none; margin:0; padding: 0}\n",
       ".list-inline>li {display: inline-block}\n",
       ".list-inline>li:not(:last-child)::after {content: \"\\00b7\"; padding: 0 .5ex}\n",
       "</style>\n",
       "<ol class=list-inline><li>1</li><li>8</li><li>19</li><li>33</li><li>57</li><li>94</li><li>113</li><li>131</li><li>138</li><li>146</li><li>148</li><li>150</li></ol>\n"
      ],
      "text/latex": [
       "\\begin{enumerate*}\n",
       "\\item 1\n",
       "\\item 8\n",
       "\\item 19\n",
       "\\item 33\n",
       "\\item 57\n",
       "\\item 94\n",
       "\\item 113\n",
       "\\item 131\n",
       "\\item 138\n",
       "\\item 146\n",
       "\\item 148\n",
       "\\item 150\n",
       "\\end{enumerate*}\n"
      ],
      "text/markdown": [
       "1. 1\n",
       "2. 8\n",
       "3. 19\n",
       "4. 33\n",
       "5. 57\n",
       "6. 94\n",
       "7. 113\n",
       "8. 131\n",
       "9. 138\n",
       "10. 146\n",
       "11. 148\n",
       "12. 150\n",
       "\n",
       "\n"
      ],
      "text/plain": [
       " [1]   1   8  19  33  57  94 113 131 138 146 148 150"
      ]
     },
     "metadata": {},
     "output_type": "display_data"
    },
    {
     "data": {
      "text/html": [
       "<table>\n",
       "<caption>A matrix: 12 × 5 of type dbl</caption>\n",
       "<thead>\n",
       "\t<tr><th scope=col></th><th scope=col></th><th scope=col>xcf</th><th scope=col>xrf</th><th scope=col>xrcf</th></tr>\n",
       "</thead>\n",
       "<tbody>\n",
       "\t<tr><td>2.1</td><td> 1</td><td>  1</td><td>0.0067</td><td>0.0067</td></tr>\n",
       "\t<tr><td>2.3</td><td> 7</td><td>  8</td><td>0.0467</td><td>0.0533</td></tr>\n",
       "\t<tr><td>2.5</td><td>11</td><td> 19</td><td>0.0733</td><td>0.1267</td></tr>\n",
       "\t<tr><td>2.7</td><td>14</td><td> 33</td><td>0.0933</td><td>0.2200</td></tr>\n",
       "\t<tr><td>2.9</td><td>24</td><td> 57</td><td>0.1600</td><td>0.3800</td></tr>\n",
       "\t<tr><td>3.1</td><td>37</td><td> 94</td><td>0.2467</td><td>0.6267</td></tr>\n",
       "\t<tr><td>3.3</td><td>19</td><td>113</td><td>0.1267</td><td>0.7533</td></tr>\n",
       "\t<tr><td>3.5</td><td>18</td><td>131</td><td>0.1200</td><td>0.8733</td></tr>\n",
       "\t<tr><td>3.7</td><td> 7</td><td>138</td><td>0.0467</td><td>0.9200</td></tr>\n",
       "\t<tr><td>3.9</td><td> 8</td><td>146</td><td>0.0533</td><td>0.9733</td></tr>\n",
       "\t<tr><td>4.1</td><td> 2</td><td>148</td><td>0.0133</td><td>0.9867</td></tr>\n",
       "\t<tr><td>4.3</td><td> 2</td><td>150</td><td>0.0133</td><td>1.0000</td></tr>\n",
       "</tbody>\n",
       "</table>\n"
      ],
      "text/latex": [
       "A matrix: 12 × 5 of type dbl\n",
       "\\begin{tabular}{lllll}\n",
       "  &  & xcf & xrf & xrcf\\\\\n",
       "\\hline\n",
       "\t 2.1 &  1 &   1 & 0.0067 & 0.0067\\\\\n",
       "\t 2.3 &  7 &   8 & 0.0467 & 0.0533\\\\\n",
       "\t 2.5 & 11 &  19 & 0.0733 & 0.1267\\\\\n",
       "\t 2.7 & 14 &  33 & 0.0933 & 0.2200\\\\\n",
       "\t 2.9 & 24 &  57 & 0.1600 & 0.3800\\\\\n",
       "\t 3.1 & 37 &  94 & 0.2467 & 0.6267\\\\\n",
       "\t 3.3 & 19 & 113 & 0.1267 & 0.7533\\\\\n",
       "\t 3.5 & 18 & 131 & 0.1200 & 0.8733\\\\\n",
       "\t 3.7 &  7 & 138 & 0.0467 & 0.9200\\\\\n",
       "\t 3.9 &  8 & 146 & 0.0533 & 0.9733\\\\\n",
       "\t 4.1 &  2 & 148 & 0.0133 & 0.9867\\\\\n",
       "\t 4.3 &  2 & 150 & 0.0133 & 1.0000\\\\\n",
       "\\end{tabular}\n"
      ],
      "text/markdown": [
       "\n",
       "A matrix: 12 × 5 of type dbl\n",
       "\n",
       "| <!----> | <!----> | xcf | xrf | xrcf |\n",
       "|---|---|---|---|---|\n",
       "| 2.1 |  1 |   1 | 0.0067 | 0.0067 |\n",
       "| 2.3 |  7 |   8 | 0.0467 | 0.0533 |\n",
       "| 2.5 | 11 |  19 | 0.0733 | 0.1267 |\n",
       "| 2.7 | 14 |  33 | 0.0933 | 0.2200 |\n",
       "| 2.9 | 24 |  57 | 0.1600 | 0.3800 |\n",
       "| 3.1 | 37 |  94 | 0.2467 | 0.6267 |\n",
       "| 3.3 | 19 | 113 | 0.1267 | 0.7533 |\n",
       "| 3.5 | 18 | 131 | 0.1200 | 0.8733 |\n",
       "| 3.7 |  7 | 138 | 0.0467 | 0.9200 |\n",
       "| 3.9 |  8 | 146 | 0.0533 | 0.9733 |\n",
       "| 4.1 |  2 | 148 | 0.0133 | 0.9867 |\n",
       "| 4.3 |  2 | 150 | 0.0133 | 1.0000 |\n",
       "\n"
      ],
      "text/plain": [
       "             xcf xrf    xrcf  \n",
       " [1,] 2.1  1   1 0.0067 0.0067\n",
       " [2,] 2.3  7   8 0.0467 0.0533\n",
       " [3,] 2.5 11  19 0.0733 0.1267\n",
       " [4,] 2.7 14  33 0.0933 0.2200\n",
       " [5,] 2.9 24  57 0.1600 0.3800\n",
       " [6,] 3.1 37  94 0.2467 0.6267\n",
       " [7,] 3.3 19 113 0.1267 0.7533\n",
       " [8,] 3.5 18 131 0.1200 0.8733\n",
       " [9,] 3.7  7 138 0.0467 0.9200\n",
       "[10,] 3.9  8 146 0.0533 0.9733\n",
       "[11,] 4.1  2 148 0.0133 0.9867\n",
       "[12,] 4.3  2 150 0.0133 1.0000"
      ]
     },
     "metadata": {},
     "output_type": "display_data"
    }
   ],
   "source": [
    "xcf<-cumsum(xh$counts);xcf #누적도수\n",
    "xrf2<-xh$density #뭐쟈. 상대도수에다가 계급의 너비 나누거나 곱함.\n",
    "xrf<-round(xh$counts/n,4) #상대도수\n",
    "xrcf<-round(xcf/n,4)\n",
    "\n",
    "xtable<-cbind(xh$mids,xh$counts,xcf,xrf,xrcf);xtable\n"
   ]
  },
  {
   "cell_type": "code",
   "execution_count": 52,
   "metadata": {},
   "outputs": [],
   "source": [
    "xclass<-paste0('[',xh$breaks[-length(xh$breaks)],',',xh$breaks[-1],')'); #breaks는 그 값을 뺀다는 것이다. -14는 14번째를 뺀다는 뜻.\n",
    "rownames(xtable)<-xclass;\n",
    "colnames(xtable)<-c('대푯값','도수','누적도수','상대도수','상대누적도수')"
   ]
  },
  {
   "cell_type": "code",
   "execution_count": 53,
   "metadata": {},
   "outputs": [
    {
     "data": {
      "text/html": [
       "<table>\n",
       "<caption>A matrix: 12 × 5 of type dbl</caption>\n",
       "<thead>\n",
       "\t<tr><th></th><th scope=col>대푯값</th><th scope=col>도수</th><th scope=col>누적도수</th><th scope=col>상대도수</th><th scope=col>상대누적도수</th></tr>\n",
       "</thead>\n",
       "<tbody>\n",
       "\t<tr><th scope=row>[2,2.2)</th><td>2.1</td><td> 1</td><td>  1</td><td>0.0067</td><td>0.0067</td></tr>\n",
       "\t<tr><th scope=row>[2.2,2.4)</th><td>2.3</td><td> 7</td><td>  8</td><td>0.0467</td><td>0.0533</td></tr>\n",
       "\t<tr><th scope=row>[2.4,2.6)</th><td>2.5</td><td>11</td><td> 19</td><td>0.0733</td><td>0.1267</td></tr>\n",
       "\t<tr><th scope=row>[2.6,2.8)</th><td>2.7</td><td>14</td><td> 33</td><td>0.0933</td><td>0.2200</td></tr>\n",
       "\t<tr><th scope=row>[2.8,3)</th><td>2.9</td><td>24</td><td> 57</td><td>0.1600</td><td>0.3800</td></tr>\n",
       "\t<tr><th scope=row>[3,3.2)</th><td>3.1</td><td>37</td><td> 94</td><td>0.2467</td><td>0.6267</td></tr>\n",
       "\t<tr><th scope=row>[3.2,3.4)</th><td>3.3</td><td>19</td><td>113</td><td>0.1267</td><td>0.7533</td></tr>\n",
       "\t<tr><th scope=row>[3.4,3.6)</th><td>3.5</td><td>18</td><td>131</td><td>0.1200</td><td>0.8733</td></tr>\n",
       "\t<tr><th scope=row>[3.6,3.8)</th><td>3.7</td><td> 7</td><td>138</td><td>0.0467</td><td>0.9200</td></tr>\n",
       "\t<tr><th scope=row>[3.8,4)</th><td>3.9</td><td> 8</td><td>146</td><td>0.0533</td><td>0.9733</td></tr>\n",
       "\t<tr><th scope=row>[4,4.2)</th><td>4.1</td><td> 2</td><td>148</td><td>0.0133</td><td>0.9867</td></tr>\n",
       "\t<tr><th scope=row>[4.2,4.4)</th><td>4.3</td><td> 2</td><td>150</td><td>0.0133</td><td>1.0000</td></tr>\n",
       "</tbody>\n",
       "</table>\n"
      ],
      "text/latex": [
       "A matrix: 12 × 5 of type dbl\n",
       "\\begin{tabular}{r|lllll}\n",
       "  & 대푯값 & 도수 & 누적도수 & 상대도수 & 상대누적도수\\\\\n",
       "\\hline\n",
       "\t{[}2,2.2) & 2.1 &  1 &   1 & 0.0067 & 0.0067\\\\\n",
       "\t{[}2.2,2.4) & 2.3 &  7 &   8 & 0.0467 & 0.0533\\\\\n",
       "\t{[}2.4,2.6) & 2.5 & 11 &  19 & 0.0733 & 0.1267\\\\\n",
       "\t{[}2.6,2.8) & 2.7 & 14 &  33 & 0.0933 & 0.2200\\\\\n",
       "\t{[}2.8,3) & 2.9 & 24 &  57 & 0.1600 & 0.3800\\\\\n",
       "\t{[}3,3.2) & 3.1 & 37 &  94 & 0.2467 & 0.6267\\\\\n",
       "\t{[}3.2,3.4) & 3.3 & 19 & 113 & 0.1267 & 0.7533\\\\\n",
       "\t{[}3.4,3.6) & 3.5 & 18 & 131 & 0.1200 & 0.8733\\\\\n",
       "\t{[}3.6,3.8) & 3.7 &  7 & 138 & 0.0467 & 0.9200\\\\\n",
       "\t{[}3.8,4) & 3.9 &  8 & 146 & 0.0533 & 0.9733\\\\\n",
       "\t{[}4,4.2) & 4.1 &  2 & 148 & 0.0133 & 0.9867\\\\\n",
       "\t{[}4.2,4.4) & 4.3 &  2 & 150 & 0.0133 & 1.0000\\\\\n",
       "\\end{tabular}\n"
      ],
      "text/markdown": [
       "\n",
       "A matrix: 12 × 5 of type dbl\n",
       "\n",
       "| <!--/--> | 대푯값 | 도수 | 누적도수 | 상대도수 | 상대누적도수 |\n",
       "|---|---|---|---|---|---|\n",
       "| [2,2.2) | 2.1 |  1 |   1 | 0.0067 | 0.0067 |\n",
       "| [2.2,2.4) | 2.3 |  7 |   8 | 0.0467 | 0.0533 |\n",
       "| [2.4,2.6) | 2.5 | 11 |  19 | 0.0733 | 0.1267 |\n",
       "| [2.6,2.8) | 2.7 | 14 |  33 | 0.0933 | 0.2200 |\n",
       "| [2.8,3) | 2.9 | 24 |  57 | 0.1600 | 0.3800 |\n",
       "| [3,3.2) | 3.1 | 37 |  94 | 0.2467 | 0.6267 |\n",
       "| [3.2,3.4) | 3.3 | 19 | 113 | 0.1267 | 0.7533 |\n",
       "| [3.4,3.6) | 3.5 | 18 | 131 | 0.1200 | 0.8733 |\n",
       "| [3.6,3.8) | 3.7 |  7 | 138 | 0.0467 | 0.9200 |\n",
       "| [3.8,4) | 3.9 |  8 | 146 | 0.0533 | 0.9733 |\n",
       "| [4,4.2) | 4.1 |  2 | 148 | 0.0133 | 0.9867 |\n",
       "| [4.2,4.4) | 4.3 |  2 | 150 | 0.0133 | 1.0000 |\n",
       "\n"
      ],
      "text/plain": [
       "          대푯값 도수 누적도수 상대도수 상대누적도수\n",
       "[2,2.2)   2.1     1     1      0.0067   0.0067      \n",
       "[2.2,2.4) 2.3     7     8      0.0467   0.0533      \n",
       "[2.4,2.6) 2.5    11    19      0.0733   0.1267      \n",
       "[2.6,2.8) 2.7    14    33      0.0933   0.2200      \n",
       "[2.8,3)   2.9    24    57      0.1600   0.3800      \n",
       "[3,3.2)   3.1    37    94      0.2467   0.6267      \n",
       "[3.2,3.4) 3.3    19   113      0.1267   0.7533      \n",
       "[3.4,3.6) 3.5    18   131      0.1200   0.8733      \n",
       "[3.6,3.8) 3.7     7   138      0.0467   0.9200      \n",
       "[3.8,4)   3.9     8   146      0.0533   0.9733      \n",
       "[4,4.2)   4.1     2   148      0.0133   0.9867      \n",
       "[4.2,4.4) 4.3     2   150      0.0133   1.0000      "
      ]
     },
     "metadata": {},
     "output_type": "display_data"
    }
   ],
   "source": [
    "xtable"
   ]
  }
 ],
 "metadata": {
  "kernelspec": {
   "display_name": "R",
   "language": "R",
   "name": "ir"
  },
  "language_info": {
   "codemirror_mode": "r",
   "file_extension": ".r",
   "mimetype": "text/x-r-source",
   "name": "R",
   "pygments_lexer": "r",
   "version": "4.0.2"
  }
 },
 "nbformat": 4,
 "nbformat_minor": 4
}
