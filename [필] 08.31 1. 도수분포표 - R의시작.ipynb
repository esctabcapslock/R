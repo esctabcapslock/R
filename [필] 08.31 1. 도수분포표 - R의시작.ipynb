{
 "cells": [
  {
   "cell_type": "code",
   "execution_count": null,
   "metadata": {},
   "outputs": [],
   "source": [
    "x<-seq(-3,3,by=0.01)\n",
    "plot(x,sin(x))\n",
    "\n",
    "#setwd() #대랙토리연결 D:\\\\ :2개 D:/: 1개. +가 뜬다고 한다.\n",
    "#getwd()\n",
    "#나는 주피터 노트ㅜㄱ이나 쓰려고 "
   ]
  },
  {
   "cell_type": "code",
   "execution_count": 38,
   "metadata": {
    "collapsed": true
   },
   "outputs": [
    {
     "data": {
      "text/html": [
       "<table>\n",
       "<caption>A data.frame: 3 × 5</caption>\n",
       "<thead>\n",
       "\t<tr><th></th><th scope=col>번호</th><th scope=col>연령</th><th scope=col>성별</th><th scope=col>결혼상태</th><th scope=col>자녀수</th></tr>\n",
       "\t<tr><th></th><th scope=col>&lt;int&gt;</th><th scope=col>&lt;int&gt;</th><th scope=col>&lt;chr&gt;</th><th scope=col>&lt;chr&gt;</th><th scope=col>&lt;int&gt;</th></tr>\n",
       "</thead>\n",
       "<tbody>\n",
       "\t<tr><th scope=row>1</th><td>1</td><td>70</td><td>남</td><td>결혼</td><td>3</td></tr>\n",
       "\t<tr><th scope=row>2</th><td>2</td><td>28</td><td>여</td><td>별거</td><td>3</td></tr>\n",
       "\t<tr><th scope=row>3</th><td>3</td><td>47</td><td>남</td><td>결혼</td><td>1</td></tr>\n",
       "</tbody>\n",
       "</table>\n"
      ],
      "text/latex": [
       "A data.frame: 3 × 5\n",
       "\\begin{tabular}{r|lllll}\n",
       "  & 번호 & 연령 & 성별 & 결혼상태 & 자녀수\\\\\n",
       "  & <int> & <int> & <chr> & <chr> & <int>\\\\\n",
       "\\hline\n",
       "\t1 & 1 & 70 & 남 & 결혼 & 3\\\\\n",
       "\t2 & 2 & 28 & 여 & 별거 & 3\\\\\n",
       "\t3 & 3 & 47 & 남 & 결혼 & 1\\\\\n",
       "\\end{tabular}\n"
      ],
      "text/markdown": [
       "\n",
       "A data.frame: 3 × 5\n",
       "\n",
       "| <!--/--> | 번호 &lt;int&gt; | 연령 &lt;int&gt; | 성별 &lt;chr&gt; | 결혼상태 &lt;chr&gt; | 자녀수 &lt;int&gt; |\n",
       "|---|---|---|---|---|---|\n",
       "| 1 | 1 | 70 | 남 | 결혼 | 3 |\n",
       "| 2 | 2 | 28 | 여 | 별거 | 3 |\n",
       "| 3 | 3 | 47 | 남 | 결혼 | 1 |\n",
       "\n"
      ],
      "text/plain": [
       "  번호 연령 성별 결혼상태 자녀수\n",
       "1 1    70   남   결혼     3     \n",
       "2 2    28   여   별거     3     \n",
       "3 3    47   남   결혼     1     "
      ]
     },
     "metadata": {},
     "output_type": "display_data"
    }
   ],
   "source": [
    "datal <- read.csv(\"generation1.csv\",header=T) #header은 맨 상단에 제목이 있다는 뜻이다.\n",
    "head(datal,3)"
   ]
  },
  {
   "cell_type": "code",
   "execution_count": 54,
   "metadata": {
    "collapsed": true
   },
   "outputs": [
    {
     "data": {
      "image/png": "[encoded data removed]",
      "text/plain": [
       "Plot with title \"Histogram of x\""
      ]
     },
     "metadata": {
      "image/png": {
       "height": 420,
       "width": 420
      }
     },
     "output_type": "display_data"
    }
   ],
   "source": []
  },
  {
   "cell_type": "code",
   "execution_count": 55,
   "metadata": {
    "collapsed": true
   },
   "outputs": [
    {
     "data": {
      "text/plain": [
       "$breaks\n",
       "[1] 20 30 40 50 60 70 80 90\n",
       "\n",
       "$counts\n",
       "[1] 5 4 6 2 3 4 1\n",
       "\n",
       "$density\n",
       "[1] 0.020 0.016 0.024 0.008 0.012 0.016 0.004\n",
       "\n",
       "$mids\n",
       "[1] 25 35 45 55 65 75 85\n",
       "\n",
       "$xname\n",
       "[1] \"x\"\n",
       "\n",
       "$equidist\n",
       "[1] TRUE\n",
       "\n",
       "attr(,\"class\")\n",
       "[1] \"histogram\""
      ]
     },
     "metadata": {},
     "output_type": "display_data"
    }
   ],
   "source": [
    "xh"
   ]
  },
  {
   "cell_type": "code",
   "execution_count": 66,
   "metadata": {
    "collapsed": true
   },
   "outputs": [
    {
     "data": {
      "text/html": [
       "<style>\n",
       ".list-inline {list-style: none; margin:0; padding: 0}\n",
       ".list-inline>li {display: inline-block}\n",
       ".list-inline>li:not(:last-child)::after {content: \"\\00b7\"; padding: 0 .5ex}\n",
       "</style>\n",
       "<ol class=list-inline><li>5</li><li>9</li><li>15</li><li>17</li><li>20</li><li>24</li><li>25</li></ol>\n"
      ],
      "text/latex": [
       "\\begin{enumerate*}\n",
       "\\item 5\n",
       "\\item 9\n",
       "\\item 15\n",
       "\\item 17\n",
       "\\item 20\n",
       "\\item 24\n",
       "\\item 25\n",
       "\\end{enumerate*}\n"
      ],
      "text/markdown": [
       "1. 5\n",
       "2. 9\n",
       "3. 15\n",
       "4. 17\n",
       "5. 20\n",
       "6. 24\n",
       "7. 25\n",
       "\n",
       "\n"
      ],
      "text/plain": [
       "[1]  5  9 15 17 20 24 25"
      ]
     },
     "metadata": {},
     "output_type": "display_data"
    },
    {
     "name": "stdout",
     "output_type": "stream",
     "text": [
      "          xcf  xrf xrcf\n",
      "[1,] 25 5   5 0.20 0.20\n",
      "[2,] 35 4   9 0.16 0.36\n",
      "[3,] 45 6  15 0.24 0.60\n",
      "[4,] 55 2  17 0.08 0.68\n",
      "[5,] 65 3  20 0.12 0.80\n",
      "[6,] 75 4  24 0.16 0.96\n",
      "[7,] 85 1  25 0.04 1.00\n"
     ]
    },
    {
     "data": {
      "image/png": "[encoded data removed]",
      "text/plain": [
       "Plot with title \"Histogram of x\""
      ]
     },
     "metadata": {
      "image/png": {
       "height": 420,
       "width": 420
      }
     },
     "output_type": "display_data"
    }
   ],
   "source": [
    "x<-datal$연령\n",
    "xh<-hist(x,breaks=seq(20,90,by=10),right=F)#right=T면 계급이 초과~이하로 됨. #\n",
    "\n",
    "#본격 히스토그램 만들기\n",
    "n<-length(x)\n",
    "xcf=cumsum(xh$counts);xcf #한줄에 명령어 두번 칠때 ;찍는거임. 이게 누적도수임.\n",
    "xrf<-xh$counts/n #상대도수 \n",
    "xrcf<-xcf/n #상대누적도수\n",
    "xtable <- cbind(xh$mids, xh$counts,xcf,xrf,xrcf) #표만듦\n",
    "print(xtable)"
   ]
  },
  {
   "cell_type": "code",
   "execution_count": 68,
   "metadata": {},
   "outputs": [],
   "source": [
    "#계급만들기\n",
    "xclass<-paste0('[',xh$breaks[-8], ',',xh$breaks[-1],')') #paste0:공백없이 붙이다. [-8]은 20~90에서 90제거한 것이다.\n",
    "rownames(xtable)<-xclass\n",
    "colnames(xtable)<-c('대푯값','도수','누적도수','상대도수','상대누적도수')"
   ]
  },
  {
   "cell_type": "code",
   "execution_count": 69,
   "metadata": {
    "collapsed": true
   },
   "outputs": [
    {
     "data": {
      "text/html": [
       "<table>\n",
       "<caption>A matrix: 7 × 5 of type dbl</caption>\n",
       "<thead>\n",
       "\t<tr><th></th><th scope=col>대푯값</th><th scope=col>도수</th><th scope=col>누적도수</th><th scope=col>상대도수</th><th scope=col>상대누적도수</th></tr>\n",
       "</thead>\n",
       "<tbody>\n",
       "\t<tr><th scope=row>[20,30)</th><td>25</td><td>5</td><td> 5</td><td>0.20</td><td>0.20</td></tr>\n",
       "\t<tr><th scope=row>[30,40)</th><td>35</td><td>4</td><td> 9</td><td>0.16</td><td>0.36</td></tr>\n",
       "\t<tr><th scope=row>[40,50)</th><td>45</td><td>6</td><td>15</td><td>0.24</td><td>0.60</td></tr>\n",
       "\t<tr><th scope=row>[50,60)</th><td>55</td><td>2</td><td>17</td><td>0.08</td><td>0.68</td></tr>\n",
       "\t<tr><th scope=row>[60,70)</th><td>65</td><td>3</td><td>20</td><td>0.12</td><td>0.80</td></tr>\n",
       "\t<tr><th scope=row>[70,80)</th><td>75</td><td>4</td><td>24</td><td>0.16</td><td>0.96</td></tr>\n",
       "\t<tr><th scope=row>[80,90)</th><td>85</td><td>1</td><td>25</td><td>0.04</td><td>1.00</td></tr>\n",
       "</tbody>\n",
       "</table>\n"
      ],
      "text/latex": [
       "A matrix: 7 × 5 of type dbl\n",
       "\\begin{tabular}{r|lllll}\n",
       "  & 대푯값 & 도수 & 누적도수 & 상대도수 & 상대누적도수\\\\\n",
       "\\hline\n",
       "\t{[}20,30) & 25 & 5 &  5 & 0.20 & 0.20\\\\\n",
       "\t{[}30,40) & 35 & 4 &  9 & 0.16 & 0.36\\\\\n",
       "\t{[}40,50) & 45 & 6 & 15 & 0.24 & 0.60\\\\\n",
       "\t{[}50,60) & 55 & 2 & 17 & 0.08 & 0.68\\\\\n",
       "\t{[}60,70) & 65 & 3 & 20 & 0.12 & 0.80\\\\\n",
       "\t{[}70,80) & 75 & 4 & 24 & 0.16 & 0.96\\\\\n",
       "\t{[}80,90) & 85 & 1 & 25 & 0.04 & 1.00\\\\\n",
       "\\end{tabular}\n"
      ],
      "text/markdown": [
       "\n",
       "A matrix: 7 × 5 of type dbl\n",
       "\n",
       "| <!--/--> | 대푯값 | 도수 | 누적도수 | 상대도수 | 상대누적도수 |\n",
       "|---|---|---|---|---|---|\n",
       "| [20,30) | 25 | 5 |  5 | 0.20 | 0.20 |\n",
       "| [30,40) | 35 | 4 |  9 | 0.16 | 0.36 |\n",
       "| [40,50) | 45 | 6 | 15 | 0.24 | 0.60 |\n",
       "| [50,60) | 55 | 2 | 17 | 0.08 | 0.68 |\n",
       "| [60,70) | 65 | 3 | 20 | 0.12 | 0.80 |\n",
       "| [70,80) | 75 | 4 | 24 | 0.16 | 0.96 |\n",
       "| [80,90) | 85 | 1 | 25 | 0.04 | 1.00 |\n",
       "\n"
      ],
      "text/plain": [
       "        대푯값 도수 누적도수 상대도수 상대누적도수\n",
       "[20,30) 25     5     5       0.20     0.20        \n",
       "[30,40) 35     4     9       0.16     0.36        \n",
       "[40,50) 45     6    15       0.24     0.60        \n",
       "[50,60) 55     2    17       0.08     0.68        \n",
       "[60,70) 65     3    20       0.12     0.80        \n",
       "[70,80) 75     4    24       0.16     0.96        \n",
       "[80,90) 85     1    25       0.04     1.00        "
      ]
     },
     "metadata": {},
     "output_type": "display_data"
    }
   ],
   "source": [
    "xtable"
   ]
  },
  {
   "cell_type": "code",
   "execution_count": null,
   "metadata": {},
   "outputs": [],
   "source": []
  }
 ],
 "metadata": {
  "kernelspec": {
   "display_name": "R",
   "language": "R",
   "name": "ir"
  },
  "language_info": {
   "codemirror_mode": "r",
   "file_extension": ".r",
   "mimetype": "text/x-r-source",
   "name": "R",
   "pygments_lexer": "r",
   "version": "4.0.2"
  }
 },
 "nbformat": 4,
 "nbformat_minor": 4
}
